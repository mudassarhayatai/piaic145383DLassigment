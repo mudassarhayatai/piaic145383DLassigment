{
 "cells": [
  {
   "cell_type": "code",
   "execution_count": 1,
   "metadata": {},
   "outputs": [],
   "source": [
    "\n",
    "import numpy as np\n",
    "import pandas as pd"
   ]
  },
  {
   "cell_type": "markdown",
   "metadata": {},
   "source": [
    "# loading data"
   ]
  },
  {
   "cell_type": "code",
   "execution_count": 2,
   "metadata": {},
   "outputs": [],
   "source": [
    "df = pd.read_csv(\"compresive_strength_concrete.csv\")"
   ]
  },
  {
   "cell_type": "code",
   "execution_count": 3,
   "metadata": {},
   "outputs": [
    {
     "data": {
      "text/html": [
       "<div>\n",
       "<style scoped>\n",
       "    .dataframe tbody tr th:only-of-type {\n",
       "        vertical-align: middle;\n",
       "    }\n",
       "\n",
       "    .dataframe tbody tr th {\n",
       "        vertical-align: top;\n",
       "    }\n",
       "\n",
       "    .dataframe thead th {\n",
       "        text-align: right;\n",
       "    }\n",
       "</style>\n",
       "<table border=\"1\" class=\"dataframe\">\n",
       "  <thead>\n",
       "    <tr style=\"text-align: right;\">\n",
       "      <th></th>\n",
       "      <th>Cement (component 1)(kg in a m^3 mixture)</th>\n",
       "      <th>Blast Furnace Slag (component 2)(kg in a m^3 mixture)</th>\n",
       "      <th>Fly Ash (component 3)(kg in a m^3 mixture)</th>\n",
       "      <th>Water  (component 4)(kg in a m^3 mixture)</th>\n",
       "      <th>Superplasticizer (component 5)(kg in a m^3 mixture)</th>\n",
       "      <th>Coarse Aggregate  (component 6)(kg in a m^3 mixture)</th>\n",
       "      <th>Fine Aggregate (component 7)(kg in a m^3 mixture)</th>\n",
       "      <th>Age (day)</th>\n",
       "      <th>Concrete compressive strength(MPa, megapascals)</th>\n",
       "    </tr>\n",
       "  </thead>\n",
       "  <tbody>\n",
       "    <tr>\n",
       "      <th>0</th>\n",
       "      <td>540.0</td>\n",
       "      <td>0.0</td>\n",
       "      <td>0.0</td>\n",
       "      <td>162.0</td>\n",
       "      <td>2.5</td>\n",
       "      <td>1040.0</td>\n",
       "      <td>676.0</td>\n",
       "      <td>28</td>\n",
       "      <td>79.99</td>\n",
       "    </tr>\n",
       "    <tr>\n",
       "      <th>1</th>\n",
       "      <td>540.0</td>\n",
       "      <td>0.0</td>\n",
       "      <td>0.0</td>\n",
       "      <td>162.0</td>\n",
       "      <td>2.5</td>\n",
       "      <td>1055.0</td>\n",
       "      <td>676.0</td>\n",
       "      <td>28</td>\n",
       "      <td>61.89</td>\n",
       "    </tr>\n",
       "    <tr>\n",
       "      <th>2</th>\n",
       "      <td>332.5</td>\n",
       "      <td>142.5</td>\n",
       "      <td>0.0</td>\n",
       "      <td>228.0</td>\n",
       "      <td>0.0</td>\n",
       "      <td>932.0</td>\n",
       "      <td>594.0</td>\n",
       "      <td>270</td>\n",
       "      <td>40.27</td>\n",
       "    </tr>\n",
       "    <tr>\n",
       "      <th>3</th>\n",
       "      <td>332.5</td>\n",
       "      <td>142.5</td>\n",
       "      <td>0.0</td>\n",
       "      <td>228.0</td>\n",
       "      <td>0.0</td>\n",
       "      <td>932.0</td>\n",
       "      <td>594.0</td>\n",
       "      <td>365</td>\n",
       "      <td>41.05</td>\n",
       "    </tr>\n",
       "    <tr>\n",
       "      <th>4</th>\n",
       "      <td>198.6</td>\n",
       "      <td>132.4</td>\n",
       "      <td>0.0</td>\n",
       "      <td>192.0</td>\n",
       "      <td>0.0</td>\n",
       "      <td>978.4</td>\n",
       "      <td>825.5</td>\n",
       "      <td>360</td>\n",
       "      <td>44.30</td>\n",
       "    </tr>\n",
       "  </tbody>\n",
       "</table>\n",
       "</div>"
      ],
      "text/plain": [
       "   Cement (component 1)(kg in a m^3 mixture)  \\\n",
       "0                                      540.0   \n",
       "1                                      540.0   \n",
       "2                                      332.5   \n",
       "3                                      332.5   \n",
       "4                                      198.6   \n",
       "\n",
       "   Blast Furnace Slag (component 2)(kg in a m^3 mixture)  \\\n",
       "0                                                0.0       \n",
       "1                                                0.0       \n",
       "2                                              142.5       \n",
       "3                                              142.5       \n",
       "4                                              132.4       \n",
       "\n",
       "   Fly Ash (component 3)(kg in a m^3 mixture)  \\\n",
       "0                                         0.0   \n",
       "1                                         0.0   \n",
       "2                                         0.0   \n",
       "3                                         0.0   \n",
       "4                                         0.0   \n",
       "\n",
       "   Water  (component 4)(kg in a m^3 mixture)  \\\n",
       "0                                      162.0   \n",
       "1                                      162.0   \n",
       "2                                      228.0   \n",
       "3                                      228.0   \n",
       "4                                      192.0   \n",
       "\n",
       "   Superplasticizer (component 5)(kg in a m^3 mixture)  \\\n",
       "0                                                2.5     \n",
       "1                                                2.5     \n",
       "2                                                0.0     \n",
       "3                                                0.0     \n",
       "4                                                0.0     \n",
       "\n",
       "   Coarse Aggregate  (component 6)(kg in a m^3 mixture)  \\\n",
       "0                                             1040.0      \n",
       "1                                             1055.0      \n",
       "2                                              932.0      \n",
       "3                                              932.0      \n",
       "4                                              978.4      \n",
       "\n",
       "   Fine Aggregate (component 7)(kg in a m^3 mixture)  Age (day)  \\\n",
       "0                                              676.0         28   \n",
       "1                                              676.0         28   \n",
       "2                                              594.0        270   \n",
       "3                                              594.0        365   \n",
       "4                                              825.5        360   \n",
       "\n",
       "   Concrete compressive strength(MPa, megapascals)   \n",
       "0                                             79.99  \n",
       "1                                             61.89  \n",
       "2                                             40.27  \n",
       "3                                             41.05  \n",
       "4                                             44.30  "
      ]
     },
     "execution_count": 3,
     "metadata": {},
     "output_type": "execute_result"
    }
   ],
   "source": [
    "df.head()"
   ]
  },
  {
   "cell_type": "code",
   "execution_count": 4,
   "metadata": {},
   "outputs": [
    {
     "data": {
      "text/plain": [
       "(1030, 9)"
      ]
     },
     "execution_count": 4,
     "metadata": {},
     "output_type": "execute_result"
    }
   ],
   "source": [
    "df.shape"
   ]
  },
  {
   "cell_type": "code",
   "execution_count": 5,
   "metadata": {},
   "outputs": [
    {
     "name": "stdout",
     "output_type": "stream",
     "text": [
      "<class 'pandas.core.frame.DataFrame'>\n",
      "RangeIndex: 1030 entries, 0 to 1029\n",
      "Data columns (total 9 columns):\n",
      "Cement (component 1)(kg in a m^3 mixture)                1030 non-null float64\n",
      "Blast Furnace Slag (component 2)(kg in a m^3 mixture)    1030 non-null float64\n",
      "Fly Ash (component 3)(kg in a m^3 mixture)               1030 non-null float64\n",
      "Water  (component 4)(kg in a m^3 mixture)                1030 non-null float64\n",
      "Superplasticizer (component 5)(kg in a m^3 mixture)      1030 non-null float64\n",
      "Coarse Aggregate  (component 6)(kg in a m^3 mixture)     1030 non-null float64\n",
      "Fine Aggregate (component 7)(kg in a m^3 mixture)        1030 non-null float64\n",
      "Age (day)                                                1030 non-null int64\n",
      "Concrete compressive strength(MPa, megapascals)          1030 non-null float64\n",
      "dtypes: float64(8), int64(1)\n",
      "memory usage: 72.5 KB\n"
     ]
    }
   ],
   "source": [
    "df.info()"
   ]
  },
  {
   "cell_type": "markdown",
   "metadata": {},
   "source": [
    "# checking missing value"
   ]
  },
  {
   "cell_type": "code",
   "execution_count": 6,
   "metadata": {},
   "outputs": [
    {
     "data": {
      "text/plain": [
       "Cement (component 1)(kg in a m^3 mixture)                0\n",
       "Blast Furnace Slag (component 2)(kg in a m^3 mixture)    0\n",
       "Fly Ash (component 3)(kg in a m^3 mixture)               0\n",
       "Water  (component 4)(kg in a m^3 mixture)                0\n",
       "Superplasticizer (component 5)(kg in a m^3 mixture)      0\n",
       "Coarse Aggregate  (component 6)(kg in a m^3 mixture)     0\n",
       "Fine Aggregate (component 7)(kg in a m^3 mixture)        0\n",
       "Age (day)                                                0\n",
       "Concrete compressive strength(MPa, megapascals)          0\n",
       "dtype: int64"
      ]
     },
     "execution_count": 6,
     "metadata": {},
     "output_type": "execute_result"
    }
   ],
   "source": [
    "df.isnull().sum()"
   ]
  },
  {
   "cell_type": "code",
   "execution_count": 7,
   "metadata": {},
   "outputs": [
    {
     "data": {
      "text/plain": [
       "Index(['Cement (component 1)(kg in a m^3 mixture)',\n",
       "       'Blast Furnace Slag (component 2)(kg in a m^3 mixture)',\n",
       "       'Fly Ash (component 3)(kg in a m^3 mixture)',\n",
       "       'Water  (component 4)(kg in a m^3 mixture)',\n",
       "       'Superplasticizer (component 5)(kg in a m^3 mixture)',\n",
       "       'Coarse Aggregate  (component 6)(kg in a m^3 mixture)',\n",
       "       'Fine Aggregate (component 7)(kg in a m^3 mixture)', 'Age (day)',\n",
       "       'Concrete compressive strength(MPa, megapascals) '],\n",
       "      dtype='object')"
      ]
     },
     "execution_count": 7,
     "metadata": {},
     "output_type": "execute_result"
    }
   ],
   "source": [
    "df.columns"
   ]
  },
  {
   "cell_type": "markdown",
   "metadata": {},
   "source": [
    "# data splting"
   ]
  },
  {
   "cell_type": "code",
   "execution_count": 8,
   "metadata": {},
   "outputs": [],
   "source": [
    "target = df[\"Concrete compressive strength(MPa, megapascals) \"]"
   ]
  },
  {
   "cell_type": "code",
   "execution_count": 9,
   "metadata": {},
   "outputs": [
    {
     "data": {
      "text/plain": [
       "0       79.99\n",
       "1       61.89\n",
       "2       40.27\n",
       "3       41.05\n",
       "4       44.30\n",
       "5       47.03\n",
       "6       43.70\n",
       "7       36.45\n",
       "8       45.85\n",
       "9       39.29\n",
       "10      38.07\n",
       "11      28.02\n",
       "12      43.01\n",
       "13      42.33\n",
       "14      47.81\n",
       "15      52.91\n",
       "16      39.36\n",
       "17      56.14\n",
       "18      40.56\n",
       "19      42.62\n",
       "20      41.84\n",
       "21      28.24\n",
       "22       8.06\n",
       "23      44.21\n",
       "24      52.52\n",
       "25      53.30\n",
       "26      41.15\n",
       "27      52.12\n",
       "28      37.43\n",
       "29      38.60\n",
       "        ...  \n",
       "1000    44.61\n",
       "1001    53.52\n",
       "1002    57.22\n",
       "1003    65.91\n",
       "1004    52.83\n",
       "1005    33.40\n",
       "1006    18.03\n",
       "1007    37.36\n",
       "1008    35.31\n",
       "1009    42.64\n",
       "1010    40.06\n",
       "1011    43.80\n",
       "1012    61.24\n",
       "1013    40.87\n",
       "1014    33.31\n",
       "1015    52.43\n",
       "1016    15.09\n",
       "1017    38.46\n",
       "1018    37.27\n",
       "1019    35.23\n",
       "1020    42.14\n",
       "1021    31.88\n",
       "1022    41.54\n",
       "1023    39.46\n",
       "1024    37.92\n",
       "1025    44.28\n",
       "1026    31.18\n",
       "1027    23.70\n",
       "1028    32.77\n",
       "1029    32.40\n",
       "Name: Concrete compressive strength(MPa, megapascals) , Length: 1030, dtype: float64"
      ]
     },
     "execution_count": 9,
     "metadata": {},
     "output_type": "execute_result"
    }
   ],
   "source": [
    "target"
   ]
  },
  {
   "cell_type": "code",
   "execution_count": 10,
   "metadata": {},
   "outputs": [],
   "source": [
    "data = df.drop(columns=\"Concrete compressive strength(MPa, megapascals) \"  )"
   ]
  },
  {
   "cell_type": "code",
   "execution_count": 11,
   "metadata": {},
   "outputs": [
    {
     "data": {
      "text/html": [
       "<div>\n",
       "<style scoped>\n",
       "    .dataframe tbody tr th:only-of-type {\n",
       "        vertical-align: middle;\n",
       "    }\n",
       "\n",
       "    .dataframe tbody tr th {\n",
       "        vertical-align: top;\n",
       "    }\n",
       "\n",
       "    .dataframe thead th {\n",
       "        text-align: right;\n",
       "    }\n",
       "</style>\n",
       "<table border=\"1\" class=\"dataframe\">\n",
       "  <thead>\n",
       "    <tr style=\"text-align: right;\">\n",
       "      <th></th>\n",
       "      <th>Cement (component 1)(kg in a m^3 mixture)</th>\n",
       "      <th>Blast Furnace Slag (component 2)(kg in a m^3 mixture)</th>\n",
       "      <th>Fly Ash (component 3)(kg in a m^3 mixture)</th>\n",
       "      <th>Water  (component 4)(kg in a m^3 mixture)</th>\n",
       "      <th>Superplasticizer (component 5)(kg in a m^3 mixture)</th>\n",
       "      <th>Coarse Aggregate  (component 6)(kg in a m^3 mixture)</th>\n",
       "      <th>Fine Aggregate (component 7)(kg in a m^3 mixture)</th>\n",
       "      <th>Age (day)</th>\n",
       "    </tr>\n",
       "  </thead>\n",
       "  <tbody>\n",
       "    <tr>\n",
       "      <th>0</th>\n",
       "      <td>540.0</td>\n",
       "      <td>0.0</td>\n",
       "      <td>0.0</td>\n",
       "      <td>162.0</td>\n",
       "      <td>2.5</td>\n",
       "      <td>1040.0</td>\n",
       "      <td>676.0</td>\n",
       "      <td>28</td>\n",
       "    </tr>\n",
       "    <tr>\n",
       "      <th>1</th>\n",
       "      <td>540.0</td>\n",
       "      <td>0.0</td>\n",
       "      <td>0.0</td>\n",
       "      <td>162.0</td>\n",
       "      <td>2.5</td>\n",
       "      <td>1055.0</td>\n",
       "      <td>676.0</td>\n",
       "      <td>28</td>\n",
       "    </tr>\n",
       "    <tr>\n",
       "      <th>2</th>\n",
       "      <td>332.5</td>\n",
       "      <td>142.5</td>\n",
       "      <td>0.0</td>\n",
       "      <td>228.0</td>\n",
       "      <td>0.0</td>\n",
       "      <td>932.0</td>\n",
       "      <td>594.0</td>\n",
       "      <td>270</td>\n",
       "    </tr>\n",
       "    <tr>\n",
       "      <th>3</th>\n",
       "      <td>332.5</td>\n",
       "      <td>142.5</td>\n",
       "      <td>0.0</td>\n",
       "      <td>228.0</td>\n",
       "      <td>0.0</td>\n",
       "      <td>932.0</td>\n",
       "      <td>594.0</td>\n",
       "      <td>365</td>\n",
       "    </tr>\n",
       "    <tr>\n",
       "      <th>4</th>\n",
       "      <td>198.6</td>\n",
       "      <td>132.4</td>\n",
       "      <td>0.0</td>\n",
       "      <td>192.0</td>\n",
       "      <td>0.0</td>\n",
       "      <td>978.4</td>\n",
       "      <td>825.5</td>\n",
       "      <td>360</td>\n",
       "    </tr>\n",
       "  </tbody>\n",
       "</table>\n",
       "</div>"
      ],
      "text/plain": [
       "   Cement (component 1)(kg in a m^3 mixture)  \\\n",
       "0                                      540.0   \n",
       "1                                      540.0   \n",
       "2                                      332.5   \n",
       "3                                      332.5   \n",
       "4                                      198.6   \n",
       "\n",
       "   Blast Furnace Slag (component 2)(kg in a m^3 mixture)  \\\n",
       "0                                                0.0       \n",
       "1                                                0.0       \n",
       "2                                              142.5       \n",
       "3                                              142.5       \n",
       "4                                              132.4       \n",
       "\n",
       "   Fly Ash (component 3)(kg in a m^3 mixture)  \\\n",
       "0                                         0.0   \n",
       "1                                         0.0   \n",
       "2                                         0.0   \n",
       "3                                         0.0   \n",
       "4                                         0.0   \n",
       "\n",
       "   Water  (component 4)(kg in a m^3 mixture)  \\\n",
       "0                                      162.0   \n",
       "1                                      162.0   \n",
       "2                                      228.0   \n",
       "3                                      228.0   \n",
       "4                                      192.0   \n",
       "\n",
       "   Superplasticizer (component 5)(kg in a m^3 mixture)  \\\n",
       "0                                                2.5     \n",
       "1                                                2.5     \n",
       "2                                                0.0     \n",
       "3                                                0.0     \n",
       "4                                                0.0     \n",
       "\n",
       "   Coarse Aggregate  (component 6)(kg in a m^3 mixture)  \\\n",
       "0                                             1040.0      \n",
       "1                                             1055.0      \n",
       "2                                              932.0      \n",
       "3                                              932.0      \n",
       "4                                              978.4      \n",
       "\n",
       "   Fine Aggregate (component 7)(kg in a m^3 mixture)  Age (day)  \n",
       "0                                              676.0         28  \n",
       "1                                              676.0         28  \n",
       "2                                              594.0        270  \n",
       "3                                              594.0        365  \n",
       "4                                              825.5        360  "
      ]
     },
     "execution_count": 11,
     "metadata": {},
     "output_type": "execute_result"
    }
   ],
   "source": [
    "data.head()"
   ]
  },
  {
   "cell_type": "code",
   "execution_count": 12,
   "metadata": {},
   "outputs": [
    {
     "data": {
      "text/plain": [
       "(1030, 8)"
      ]
     },
     "execution_count": 12,
     "metadata": {},
     "output_type": "execute_result"
    }
   ],
   "source": [
    "data.shape"
   ]
  },
  {
   "cell_type": "code",
   "execution_count": 13,
   "metadata": {},
   "outputs": [],
   "source": [
    "train_data = data.iloc[:512]\n",
    "train_label = target.iloc[:512]"
   ]
  },
  {
   "cell_type": "code",
   "execution_count": 14,
   "metadata": {},
   "outputs": [],
   "source": [
    "val_data = data.iloc[512:718]\n",
    "val_label = target.iloc[512:718]"
   ]
  },
  {
   "cell_type": "code",
   "execution_count": 15,
   "metadata": {},
   "outputs": [],
   "source": [
    "test_data = data.iloc[718:]\n",
    "test_label = target.iloc[718:]"
   ]
  },
  {
   "cell_type": "code",
   "execution_count": 16,
   "metadata": {},
   "outputs": [
    {
     "data": {
      "text/plain": [
       "(512, 8)"
      ]
     },
     "execution_count": 16,
     "metadata": {},
     "output_type": "execute_result"
    }
   ],
   "source": [
    "train_data.shape"
   ]
  },
  {
   "cell_type": "code",
   "execution_count": 17,
   "metadata": {},
   "outputs": [
    {
     "data": {
      "text/plain": [
       "(206, 8)"
      ]
     },
     "execution_count": 17,
     "metadata": {},
     "output_type": "execute_result"
    }
   ],
   "source": [
    "val_data.shape"
   ]
  },
  {
   "cell_type": "code",
   "execution_count": 18,
   "metadata": {},
   "outputs": [
    {
     "data": {
      "text/plain": [
       "(312, 8)"
      ]
     },
     "execution_count": 18,
     "metadata": {},
     "output_type": "execute_result"
    }
   ],
   "source": [
    "test_data.shape"
   ]
  },
  {
   "cell_type": "code",
   "execution_count": 19,
   "metadata": {},
   "outputs": [
    {
     "data": {
      "text/html": [
       "<div>\n",
       "<style scoped>\n",
       "    .dataframe tbody tr th:only-of-type {\n",
       "        vertical-align: middle;\n",
       "    }\n",
       "\n",
       "    .dataframe tbody tr th {\n",
       "        vertical-align: top;\n",
       "    }\n",
       "\n",
       "    .dataframe thead th {\n",
       "        text-align: right;\n",
       "    }\n",
       "</style>\n",
       "<table border=\"1\" class=\"dataframe\">\n",
       "  <thead>\n",
       "    <tr style=\"text-align: right;\">\n",
       "      <th></th>\n",
       "      <th>Cement (component 1)(kg in a m^3 mixture)</th>\n",
       "      <th>Blast Furnace Slag (component 2)(kg in a m^3 mixture)</th>\n",
       "      <th>Fly Ash (component 3)(kg in a m^3 mixture)</th>\n",
       "      <th>Water  (component 4)(kg in a m^3 mixture)</th>\n",
       "      <th>Superplasticizer (component 5)(kg in a m^3 mixture)</th>\n",
       "      <th>Coarse Aggregate  (component 6)(kg in a m^3 mixture)</th>\n",
       "      <th>Fine Aggregate (component 7)(kg in a m^3 mixture)</th>\n",
       "      <th>Age (day)</th>\n",
       "    </tr>\n",
       "  </thead>\n",
       "  <tbody>\n",
       "    <tr>\n",
       "      <th>0</th>\n",
       "      <td>540.0</td>\n",
       "      <td>0.0</td>\n",
       "      <td>0.0</td>\n",
       "      <td>162.0</td>\n",
       "      <td>2.5</td>\n",
       "      <td>1040.0</td>\n",
       "      <td>676.0</td>\n",
       "      <td>28</td>\n",
       "    </tr>\n",
       "    <tr>\n",
       "      <th>1</th>\n",
       "      <td>540.0</td>\n",
       "      <td>0.0</td>\n",
       "      <td>0.0</td>\n",
       "      <td>162.0</td>\n",
       "      <td>2.5</td>\n",
       "      <td>1055.0</td>\n",
       "      <td>676.0</td>\n",
       "      <td>28</td>\n",
       "    </tr>\n",
       "    <tr>\n",
       "      <th>2</th>\n",
       "      <td>332.5</td>\n",
       "      <td>142.5</td>\n",
       "      <td>0.0</td>\n",
       "      <td>228.0</td>\n",
       "      <td>0.0</td>\n",
       "      <td>932.0</td>\n",
       "      <td>594.0</td>\n",
       "      <td>270</td>\n",
       "    </tr>\n",
       "    <tr>\n",
       "      <th>3</th>\n",
       "      <td>332.5</td>\n",
       "      <td>142.5</td>\n",
       "      <td>0.0</td>\n",
       "      <td>228.0</td>\n",
       "      <td>0.0</td>\n",
       "      <td>932.0</td>\n",
       "      <td>594.0</td>\n",
       "      <td>365</td>\n",
       "    </tr>\n",
       "    <tr>\n",
       "      <th>4</th>\n",
       "      <td>198.6</td>\n",
       "      <td>132.4</td>\n",
       "      <td>0.0</td>\n",
       "      <td>192.0</td>\n",
       "      <td>0.0</td>\n",
       "      <td>978.4</td>\n",
       "      <td>825.5</td>\n",
       "      <td>360</td>\n",
       "    </tr>\n",
       "  </tbody>\n",
       "</table>\n",
       "</div>"
      ],
      "text/plain": [
       "   Cement (component 1)(kg in a m^3 mixture)  \\\n",
       "0                                      540.0   \n",
       "1                                      540.0   \n",
       "2                                      332.5   \n",
       "3                                      332.5   \n",
       "4                                      198.6   \n",
       "\n",
       "   Blast Furnace Slag (component 2)(kg in a m^3 mixture)  \\\n",
       "0                                                0.0       \n",
       "1                                                0.0       \n",
       "2                                              142.5       \n",
       "3                                              142.5       \n",
       "4                                              132.4       \n",
       "\n",
       "   Fly Ash (component 3)(kg in a m^3 mixture)  \\\n",
       "0                                         0.0   \n",
       "1                                         0.0   \n",
       "2                                         0.0   \n",
       "3                                         0.0   \n",
       "4                                         0.0   \n",
       "\n",
       "   Water  (component 4)(kg in a m^3 mixture)  \\\n",
       "0                                      162.0   \n",
       "1                                      162.0   \n",
       "2                                      228.0   \n",
       "3                                      228.0   \n",
       "4                                      192.0   \n",
       "\n",
       "   Superplasticizer (component 5)(kg in a m^3 mixture)  \\\n",
       "0                                                2.5     \n",
       "1                                                2.5     \n",
       "2                                                0.0     \n",
       "3                                                0.0     \n",
       "4                                                0.0     \n",
       "\n",
       "   Coarse Aggregate  (component 6)(kg in a m^3 mixture)  \\\n",
       "0                                             1040.0      \n",
       "1                                             1055.0      \n",
       "2                                              932.0      \n",
       "3                                              932.0      \n",
       "4                                              978.4      \n",
       "\n",
       "   Fine Aggregate (component 7)(kg in a m^3 mixture)  Age (day)  \n",
       "0                                              676.0         28  \n",
       "1                                              676.0         28  \n",
       "2                                              594.0        270  \n",
       "3                                              594.0        365  \n",
       "4                                              825.5        360  "
      ]
     },
     "execution_count": 19,
     "metadata": {},
     "output_type": "execute_result"
    }
   ],
   "source": [
    "train_data.head()"
   ]
  },
  {
   "cell_type": "markdown",
   "metadata": {},
   "source": [
    "# normaliazation"
   ]
  },
  {
   "cell_type": "code",
   "execution_count": 20,
   "metadata": {},
   "outputs": [],
   "source": [
    "mean=train_data.mean(axis=0)\n",
    "train_data -= mean\n",
    "std = train_data.std(axis=0)\n",
    "train_data /= std"
   ]
  },
  {
   "cell_type": "code",
   "execution_count": 21,
   "metadata": {},
   "outputs": [],
   "source": [
    "val_data -= mean\n",
    "val_data /= std"
   ]
  },
  {
   "cell_type": "code",
   "execution_count": 22,
   "metadata": {},
   "outputs": [],
   "source": [
    "test_data -= mean\n",
    "test_data /= std"
   ]
  },
  {
   "cell_type": "code",
   "execution_count": 23,
   "metadata": {},
   "outputs": [
    {
     "data": {
      "text/html": [
       "<div>\n",
       "<style scoped>\n",
       "    .dataframe tbody tr th:only-of-type {\n",
       "        vertical-align: middle;\n",
       "    }\n",
       "\n",
       "    .dataframe tbody tr th {\n",
       "        vertical-align: top;\n",
       "    }\n",
       "\n",
       "    .dataframe thead th {\n",
       "        text-align: right;\n",
       "    }\n",
       "</style>\n",
       "<table border=\"1\" class=\"dataframe\">\n",
       "  <thead>\n",
       "    <tr style=\"text-align: right;\">\n",
       "      <th></th>\n",
       "      <th>Cement (component 1)(kg in a m^3 mixture)</th>\n",
       "      <th>Blast Furnace Slag (component 2)(kg in a m^3 mixture)</th>\n",
       "      <th>Fly Ash (component 3)(kg in a m^3 mixture)</th>\n",
       "      <th>Water  (component 4)(kg in a m^3 mixture)</th>\n",
       "      <th>Superplasticizer (component 5)(kg in a m^3 mixture)</th>\n",
       "      <th>Coarse Aggregate  (component 6)(kg in a m^3 mixture)</th>\n",
       "      <th>Fine Aggregate (component 7)(kg in a m^3 mixture)</th>\n",
       "      <th>Age (day)</th>\n",
       "    </tr>\n",
       "  </thead>\n",
       "  <tbody>\n",
       "    <tr>\n",
       "      <th>0</th>\n",
       "      <td>2.327316</td>\n",
       "      <td>-0.845072</td>\n",
       "      <td>-1.108737</td>\n",
       "      <td>-0.473803</td>\n",
       "      <td>-1.032249</td>\n",
       "      <td>0.804248</td>\n",
       "      <td>-1.195888</td>\n",
       "      <td>-0.360493</td>\n",
       "    </tr>\n",
       "    <tr>\n",
       "      <th>1</th>\n",
       "      <td>2.327316</td>\n",
       "      <td>-0.845072</td>\n",
       "      <td>-1.108737</td>\n",
       "      <td>-0.473803</td>\n",
       "      <td>-1.032249</td>\n",
       "      <td>1.008715</td>\n",
       "      <td>-1.195888</td>\n",
       "      <td>-0.360493</td>\n",
       "    </tr>\n",
       "    <tr>\n",
       "      <th>2</th>\n",
       "      <td>0.339221</td>\n",
       "      <td>1.026635</td>\n",
       "      <td>-1.108737</td>\n",
       "      <td>2.191013</td>\n",
       "      <td>-1.454100</td>\n",
       "      <td>-0.667910</td>\n",
       "      <td>-2.145435</td>\n",
       "      <td>3.133174</td>\n",
       "    </tr>\n",
       "    <tr>\n",
       "      <th>3</th>\n",
       "      <td>0.339221</td>\n",
       "      <td>1.026635</td>\n",
       "      <td>-1.108737</td>\n",
       "      <td>2.191013</td>\n",
       "      <td>-1.454100</td>\n",
       "      <td>-0.667910</td>\n",
       "      <td>-2.145435</td>\n",
       "      <td>4.504654</td>\n",
       "    </tr>\n",
       "    <tr>\n",
       "      <th>4</th>\n",
       "      <td>-0.943700</td>\n",
       "      <td>0.893974</td>\n",
       "      <td>-1.108737</td>\n",
       "      <td>0.737477</td>\n",
       "      <td>-1.454100</td>\n",
       "      <td>-0.035428</td>\n",
       "      <td>0.535299</td>\n",
       "      <td>4.432471</td>\n",
       "    </tr>\n",
       "  </tbody>\n",
       "</table>\n",
       "</div>"
      ],
      "text/plain": [
       "   Cement (component 1)(kg in a m^3 mixture)  \\\n",
       "0                                   2.327316   \n",
       "1                                   2.327316   \n",
       "2                                   0.339221   \n",
       "3                                   0.339221   \n",
       "4                                  -0.943700   \n",
       "\n",
       "   Blast Furnace Slag (component 2)(kg in a m^3 mixture)  \\\n",
       "0                                          -0.845072       \n",
       "1                                          -0.845072       \n",
       "2                                           1.026635       \n",
       "3                                           1.026635       \n",
       "4                                           0.893974       \n",
       "\n",
       "   Fly Ash (component 3)(kg in a m^3 mixture)  \\\n",
       "0                                   -1.108737   \n",
       "1                                   -1.108737   \n",
       "2                                   -1.108737   \n",
       "3                                   -1.108737   \n",
       "4                                   -1.108737   \n",
       "\n",
       "   Water  (component 4)(kg in a m^3 mixture)  \\\n",
       "0                                  -0.473803   \n",
       "1                                  -0.473803   \n",
       "2                                   2.191013   \n",
       "3                                   2.191013   \n",
       "4                                   0.737477   \n",
       "\n",
       "   Superplasticizer (component 5)(kg in a m^3 mixture)  \\\n",
       "0                                          -1.032249     \n",
       "1                                          -1.032249     \n",
       "2                                          -1.454100     \n",
       "3                                          -1.454100     \n",
       "4                                          -1.454100     \n",
       "\n",
       "   Coarse Aggregate  (component 6)(kg in a m^3 mixture)  \\\n",
       "0                                           0.804248      \n",
       "1                                           1.008715      \n",
       "2                                          -0.667910      \n",
       "3                                          -0.667910      \n",
       "4                                          -0.035428      \n",
       "\n",
       "   Fine Aggregate (component 7)(kg in a m^3 mixture)  Age (day)  \n",
       "0                                          -1.195888  -0.360493  \n",
       "1                                          -1.195888  -0.360493  \n",
       "2                                          -2.145435   3.133174  \n",
       "3                                          -2.145435   4.504654  \n",
       "4                                           0.535299   4.432471  "
      ]
     },
     "execution_count": 23,
     "metadata": {},
     "output_type": "execute_result"
    }
   ],
   "source": [
    "train_data.head()"
   ]
  },
  {
   "cell_type": "code",
   "execution_count": 24,
   "metadata": {},
   "outputs": [
    {
     "name": "stderr",
     "output_type": "stream",
     "text": [
      "Using TensorFlow backend.\n",
      "/home/mudassir/anaconda3/envs/snakes/lib/python3.5/site-packages/tensorflow/python/framework/dtypes.py:523: FutureWarning: Passing (type, 1) or '1type' as a synonym of type is deprecated; in a future version of numpy, it will be understood as (type, (1,)) / '(1,)type'.\n",
      "  _np_qint8 = np.dtype([(\"qint8\", np.int8, 1)])\n",
      "/home/mudassir/anaconda3/envs/snakes/lib/python3.5/site-packages/tensorflow/python/framework/dtypes.py:524: FutureWarning: Passing (type, 1) or '1type' as a synonym of type is deprecated; in a future version of numpy, it will be understood as (type, (1,)) / '(1,)type'.\n",
      "  _np_quint8 = np.dtype([(\"quint8\", np.uint8, 1)])\n",
      "/home/mudassir/anaconda3/envs/snakes/lib/python3.5/site-packages/tensorflow/python/framework/dtypes.py:525: FutureWarning: Passing (type, 1) or '1type' as a synonym of type is deprecated; in a future version of numpy, it will be understood as (type, (1,)) / '(1,)type'.\n",
      "  _np_qint16 = np.dtype([(\"qint16\", np.int16, 1)])\n",
      "/home/mudassir/anaconda3/envs/snakes/lib/python3.5/site-packages/tensorflow/python/framework/dtypes.py:526: FutureWarning: Passing (type, 1) or '1type' as a synonym of type is deprecated; in a future version of numpy, it will be understood as (type, (1,)) / '(1,)type'.\n",
      "  _np_quint16 = np.dtype([(\"quint16\", np.uint16, 1)])\n",
      "/home/mudassir/anaconda3/envs/snakes/lib/python3.5/site-packages/tensorflow/python/framework/dtypes.py:527: FutureWarning: Passing (type, 1) or '1type' as a synonym of type is deprecated; in a future version of numpy, it will be understood as (type, (1,)) / '(1,)type'.\n",
      "  _np_qint32 = np.dtype([(\"qint32\", np.int32, 1)])\n",
      "/home/mudassir/anaconda3/envs/snakes/lib/python3.5/site-packages/tensorflow/python/framework/dtypes.py:532: FutureWarning: Passing (type, 1) or '1type' as a synonym of type is deprecated; in a future version of numpy, it will be understood as (type, (1,)) / '(1,)type'.\n",
      "  np_resource = np.dtype([(\"resource\", np.ubyte, 1)])\n"
     ]
    }
   ],
   "source": [
    "from keras import models\n",
    "from keras import layers\n",
    "from keras import regularizers\n",
    "from keras import Sequential"
   ]
  },
  {
   "cell_type": "markdown",
   "metadata": {},
   "source": [
    "# model"
   ]
  },
  {
   "cell_type": "code",
   "execution_count": 25,
   "metadata": {},
   "outputs": [],
   "source": [
    "model = Sequential()"
   ]
  },
  {
   "cell_type": "code",
   "execution_count": 26,
   "metadata": {},
   "outputs": [],
   "source": [
    "model.add(layers.Dense(10, activation='relu', kernel_regularizer=regularizers.l1_l2(l1=0.001,l2=0.002), \n",
    "                         input_shape=(train_data.shape[1],)))\n",
    "model.add(layers.Dense(8, activation='relu'))\n",
    "model.add(layers.Dense(6, activation='relu'))\n",
    "model.add(layers.Dense(4, activation='relu'))\n",
    "model.add(layers.Dense(1))"
   ]
  },
  {
   "cell_type": "code",
   "execution_count": 27,
   "metadata": {},
   "outputs": [
    {
     "name": "stdout",
     "output_type": "stream",
     "text": [
      "_________________________________________________________________\n",
      "Layer (type)                 Output Shape              Param #   \n",
      "=================================================================\n",
      "dense_1 (Dense)              (None, 10)                90        \n",
      "_________________________________________________________________\n",
      "dense_2 (Dense)              (None, 8)                 88        \n",
      "_________________________________________________________________\n",
      "dense_3 (Dense)              (None, 6)                 54        \n",
      "_________________________________________________________________\n",
      "dense_4 (Dense)              (None, 4)                 28        \n",
      "_________________________________________________________________\n",
      "dense_5 (Dense)              (None, 1)                 5         \n",
      "=================================================================\n",
      "Total params: 265\n",
      "Trainable params: 265\n",
      "Non-trainable params: 0\n",
      "_________________________________________________________________\n"
     ]
    }
   ],
   "source": [
    "model.summary()"
   ]
  },
  {
   "cell_type": "markdown",
   "metadata": {},
   "source": [
    "# compiling"
   ]
  },
  {
   "cell_type": "code",
   "execution_count": 28,
   "metadata": {},
   "outputs": [],
   "source": [
    "model.compile(optimizer=\"adam\", loss=\"mse\", metrics=[\"mean_absolute_error\"])"
   ]
  },
  {
   "cell_type": "markdown",
   "metadata": {},
   "source": [
    "# training"
   ]
  },
  {
   "cell_type": "code",
   "execution_count": 29,
   "metadata": {},
   "outputs": [
    {
     "name": "stdout",
     "output_type": "stream",
     "text": [
      "Train on 512 samples, validate on 206 samples\n",
      "Epoch 1/100\n",
      "512/512 [==============================] - 1s 1ms/step - loss: 2065.0186 - mean_absolute_error: 42.2234 - val_loss: 791.1009 - val_mean_absolute_error: 24.7925\n",
      "Epoch 2/100\n",
      "512/512 [==============================] - 0s 204us/step - loss: 2058.2098 - mean_absolute_error: 42.1465 - val_loss: 787.1210 - val_mean_absolute_error: 24.7153\n",
      "Epoch 3/100\n",
      "512/512 [==============================] - 0s 160us/step - loss: 2050.2671 - mean_absolute_error: 42.0578 - val_loss: 782.1190 - val_mean_absolute_error: 24.6194\n",
      "Epoch 4/100\n",
      "512/512 [==============================] - 0s 155us/step - loss: 2040.1709 - mean_absolute_error: 41.9453 - val_loss: 776.0841 - val_mean_absolute_error: 24.5032\n",
      "Epoch 5/100\n",
      "512/512 [==============================] - 0s 158us/step - loss: 2027.3349 - mean_absolute_error: 41.8033 - val_loss: 768.7884 - val_mean_absolute_error: 24.3628\n",
      "Epoch 6/100\n",
      "512/512 [==============================] - 0s 160us/step - loss: 2010.6444 - mean_absolute_error: 41.6162 - val_loss: 759.4471 - val_mean_absolute_error: 24.1832\n",
      "Epoch 7/100\n",
      "512/512 [==============================] - 0s 147us/step - loss: 1988.1354 - mean_absolute_error: 41.3663 - val_loss: 746.5998 - val_mean_absolute_error: 23.9374\n",
      "Epoch 8/100\n",
      "512/512 [==============================] - 0s 161us/step - loss: 1955.9737 - mean_absolute_error: 41.0106 - val_loss: 729.2495 - val_mean_absolute_error: 23.6010\n",
      "Epoch 9/100\n",
      "512/512 [==============================] - 0s 128us/step - loss: 1911.7498 - mean_absolute_error: 40.5215 - val_loss: 705.8889 - val_mean_absolute_error: 23.1416\n",
      "Epoch 10/100\n",
      "512/512 [==============================] - 0s 118us/step - loss: 1851.4277 - mean_absolute_error: 39.8403 - val_loss: 674.8710 - val_mean_absolute_error: 22.5167\n",
      "Epoch 11/100\n",
      "512/512 [==============================] - 0s 157us/step - loss: 1767.2414 - mean_absolute_error: 38.8821 - val_loss: 632.1664 - val_mean_absolute_error: 21.6188\n",
      "Epoch 12/100\n",
      "512/512 [==============================] - 0s 171us/step - loss: 1650.2880 - mean_absolute_error: 37.4761 - val_loss: 576.5940 - val_mean_absolute_error: 20.3969\n",
      "Epoch 13/100\n",
      "512/512 [==============================] - 0s 160us/step - loss: 1491.7883 - mean_absolute_error: 35.4136 - val_loss: 507.0430 - val_mean_absolute_error: 18.7968\n",
      "Epoch 14/100\n",
      "512/512 [==============================] - 0s 131us/step - loss: 1290.2002 - mean_absolute_error: 32.5182 - val_loss: 424.7522 - val_mean_absolute_error: 16.7973\n",
      "Epoch 15/100\n",
      "512/512 [==============================] - 0s 166us/step - loss: 1052.7269 - mean_absolute_error: 28.7526 - val_loss: 343.3628 - val_mean_absolute_error: 14.8177\n",
      "Epoch 16/100\n",
      "512/512 [==============================] - 0s 174us/step - loss: 809.8080 - mean_absolute_error: 24.3016 - val_loss: 276.5006 - val_mean_absolute_error: 13.1425\n",
      "Epoch 17/100\n",
      "512/512 [==============================] - 0s 197us/step - loss: 605.7365 - mean_absolute_error: 20.6533 - val_loss: 242.0665 - val_mean_absolute_error: 12.0968\n",
      "Epoch 18/100\n",
      "512/512 [==============================] - 0s 194us/step - loss: 481.8005 - mean_absolute_error: 18.2348 - val_loss: 232.2720 - val_mean_absolute_error: 11.7529\n",
      "Epoch 19/100\n",
      "512/512 [==============================] - 0s 157us/step - loss: 414.1158 - mean_absolute_error: 16.7621 - val_loss: 219.8333 - val_mean_absolute_error: 11.4066\n",
      "Epoch 20/100\n",
      "512/512 [==============================] - 0s 174us/step - loss: 374.6437 - mean_absolute_error: 15.8569 - val_loss: 209.2872 - val_mean_absolute_error: 11.1650\n",
      "Epoch 21/100\n",
      "512/512 [==============================] - 0s 151us/step - loss: 344.4905 - mean_absolute_error: 15.2282 - val_loss: 198.6273 - val_mean_absolute_error: 10.9676\n",
      "Epoch 22/100\n",
      "512/512 [==============================] - 0s 176us/step - loss: 321.3155 - mean_absolute_error: 14.7539 - val_loss: 188.3210 - val_mean_absolute_error: 10.7450\n",
      "Epoch 23/100\n",
      "512/512 [==============================] - 0s 184us/step - loss: 305.1827 - mean_absolute_error: 14.4115 - val_loss: 180.7909 - val_mean_absolute_error: 10.5943\n",
      "Epoch 24/100\n",
      "512/512 [==============================] - 0s 169us/step - loss: 293.1817 - mean_absolute_error: 14.1235 - val_loss: 176.5117 - val_mean_absolute_error: 10.5337\n",
      "Epoch 25/100\n",
      "512/512 [==============================] - 0s 164us/step - loss: 283.0846 - mean_absolute_error: 13.8640 - val_loss: 171.9781 - val_mean_absolute_error: 10.4303\n",
      "Epoch 26/100\n",
      "512/512 [==============================] - 0s 159us/step - loss: 274.7123 - mean_absolute_error: 13.6733 - val_loss: 167.8800 - val_mean_absolute_error: 10.3249\n",
      "Epoch 27/100\n",
      "512/512 [==============================] - 0s 170us/step - loss: 267.3422 - mean_absolute_error: 13.5084 - val_loss: 166.5014 - val_mean_absolute_error: 10.2904\n",
      "Epoch 28/100\n",
      "512/512 [==============================] - 0s 169us/step - loss: 259.9929 - mean_absolute_error: 13.3229 - val_loss: 163.5724 - val_mean_absolute_error: 10.2176\n",
      "Epoch 29/100\n",
      "512/512 [==============================] - 0s 147us/step - loss: 253.6104 - mean_absolute_error: 13.1640 - val_loss: 160.6426 - val_mean_absolute_error: 10.1598\n",
      "Epoch 30/100\n",
      "512/512 [==============================] - 0s 162us/step - loss: 247.3824 - mean_absolute_error: 13.0054 - val_loss: 160.0274 - val_mean_absolute_error: 10.1630\n",
      "Epoch 31/100\n",
      "512/512 [==============================] - 0s 198us/step - loss: 241.5576 - mean_absolute_error: 12.8691 - val_loss: 158.4121 - val_mean_absolute_error: 10.1249\n",
      "Epoch 32/100\n",
      "512/512 [==============================] - 0s 223us/step - loss: 236.8446 - mean_absolute_error: 12.7457 - val_loss: 159.1689 - val_mean_absolute_error: 10.1653\n",
      "Epoch 33/100\n",
      "512/512 [==============================] - 0s 208us/step - loss: 231.3445 - mean_absolute_error: 12.6086 - val_loss: 157.3801 - val_mean_absolute_error: 10.1228\n",
      "Epoch 34/100\n",
      "512/512 [==============================] - 0s 214us/step - loss: 226.4914 - mean_absolute_error: 12.4845 - val_loss: 155.9664 - val_mean_absolute_error: 10.0903\n",
      "Epoch 35/100\n",
      "512/512 [==============================] - 0s 185us/step - loss: 222.5095 - mean_absolute_error: 12.3738 - val_loss: 155.9996 - val_mean_absolute_error: 10.0914\n",
      "Epoch 36/100\n",
      "512/512 [==============================] - 0s 161us/step - loss: 217.5344 - mean_absolute_error: 12.2352 - val_loss: 157.7152 - val_mean_absolute_error: 10.1731\n",
      "Epoch 37/100\n",
      "512/512 [==============================] - 0s 159us/step - loss: 213.3005 - mean_absolute_error: 12.1144 - val_loss: 157.5819 - val_mean_absolute_error: 10.1900\n",
      "Epoch 38/100\n",
      "512/512 [==============================] - 0s 166us/step - loss: 209.0083 - mean_absolute_error: 12.0008 - val_loss: 158.8735 - val_mean_absolute_error: 10.2264\n",
      "Epoch 39/100\n",
      "512/512 [==============================] - 0s 144us/step - loss: 204.0371 - mean_absolute_error: 11.8410 - val_loss: 157.1639 - val_mean_absolute_error: 10.1996\n",
      "Epoch 40/100\n",
      "512/512 [==============================] - 0s 124us/step - loss: 199.7486 - mean_absolute_error: 11.7128 - val_loss: 156.7734 - val_mean_absolute_error: 10.2167\n",
      "Epoch 41/100\n",
      "512/512 [==============================] - 0s 114us/step - loss: 194.6916 - mean_absolute_error: 11.5635 - val_loss: 159.0727 - val_mean_absolute_error: 10.2784\n",
      "Epoch 42/100\n",
      "512/512 [==============================] - 0s 145us/step - loss: 190.0926 - mean_absolute_error: 11.4140 - val_loss: 162.6034 - val_mean_absolute_error: 10.4058\n",
      "Epoch 43/100\n",
      "512/512 [==============================] - 0s 154us/step - loss: 185.3353 - mean_absolute_error: 11.2542 - val_loss: 163.4539 - val_mean_absolute_error: 10.4565\n",
      "Epoch 44/100\n",
      "512/512 [==============================] - 0s 153us/step - loss: 180.8232 - mean_absolute_error: 11.1066 - val_loss: 163.6685 - val_mean_absolute_error: 10.4638\n",
      "Epoch 45/100\n",
      "512/512 [==============================] - 0s 159us/step - loss: 175.8075 - mean_absolute_error: 10.9377 - val_loss: 165.3519 - val_mean_absolute_error: 10.5123\n",
      "Epoch 46/100\n",
      "512/512 [==============================] - 0s 155us/step - loss: 171.0504 - mean_absolute_error: 10.7709 - val_loss: 166.6349 - val_mean_absolute_error: 10.5553\n",
      "Epoch 47/100\n",
      "512/512 [==============================] - 0s 129us/step - loss: 166.2788 - mean_absolute_error: 10.6089 - val_loss: 165.9442 - val_mean_absolute_error: 10.5376\n"
     ]
    },
    {
     "name": "stdout",
     "output_type": "stream",
     "text": [
      "Epoch 48/100\n",
      "512/512 [==============================] - 0s 112us/step - loss: 161.7591 - mean_absolute_error: 10.4342 - val_loss: 168.5320 - val_mean_absolute_error: 10.6084\n",
      "Epoch 49/100\n",
      "512/512 [==============================] - 0s 120us/step - loss: 157.0555 - mean_absolute_error: 10.2618 - val_loss: 168.2498 - val_mean_absolute_error: 10.5997\n",
      "Epoch 50/100\n",
      "512/512 [==============================] - 0s 153us/step - loss: 152.3999 - mean_absolute_error: 10.0847 - val_loss: 169.8390 - val_mean_absolute_error: 10.6280\n",
      "Epoch 51/100\n",
      "512/512 [==============================] - 0s 130us/step - loss: 147.6385 - mean_absolute_error: 9.9120 - val_loss: 169.7890 - val_mean_absolute_error: 10.6181\n",
      "Epoch 52/100\n",
      "512/512 [==============================] - 0s 157us/step - loss: 143.2937 - mean_absolute_error: 9.7519 - val_loss: 170.1583 - val_mean_absolute_error: 10.6090\n",
      "Epoch 53/100\n",
      "512/512 [==============================] - 0s 122us/step - loss: 138.8324 - mean_absolute_error: 9.5732 - val_loss: 170.8768 - val_mean_absolute_error: 10.6238\n",
      "Epoch 54/100\n",
      "512/512 [==============================] - 0s 117us/step - loss: 135.2853 - mean_absolute_error: 9.4133 - val_loss: 171.9915 - val_mean_absolute_error: 10.6456\n",
      "Epoch 55/100\n",
      "512/512 [==============================] - 0s 119us/step - loss: 131.0947 - mean_absolute_error: 9.2539 - val_loss: 165.4723 - val_mean_absolute_error: 10.4500\n",
      "Epoch 56/100\n",
      "512/512 [==============================] - 0s 134us/step - loss: 127.0505 - mean_absolute_error: 9.0926 - val_loss: 171.6336 - val_mean_absolute_error: 10.6154\n",
      "Epoch 57/100\n",
      "512/512 [==============================] - 0s 139us/step - loss: 123.5082 - mean_absolute_error: 8.9419 - val_loss: 171.1957 - val_mean_absolute_error: 10.5874\n",
      "Epoch 58/100\n",
      "512/512 [==============================] - 0s 115us/step - loss: 120.3623 - mean_absolute_error: 8.8069 - val_loss: 168.8425 - val_mean_absolute_error: 10.5087\n",
      "Epoch 59/100\n",
      "512/512 [==============================] - 0s 119us/step - loss: 117.2931 - mean_absolute_error: 8.6596 - val_loss: 171.7522 - val_mean_absolute_error: 10.5614\n",
      "Epoch 60/100\n",
      "512/512 [==============================] - 0s 125us/step - loss: 114.6708 - mean_absolute_error: 8.5493 - val_loss: 170.9625 - val_mean_absolute_error: 10.5473\n",
      "Epoch 61/100\n",
      "512/512 [==============================] - 0s 125us/step - loss: 112.4068 - mean_absolute_error: 8.4531 - val_loss: 167.7855 - val_mean_absolute_error: 10.4339\n",
      "Epoch 62/100\n",
      "512/512 [==============================] - 0s 125us/step - loss: 109.6367 - mean_absolute_error: 8.3324 - val_loss: 169.7911 - val_mean_absolute_error: 10.4868\n",
      "Epoch 63/100\n",
      "512/512 [==============================] - 0s 114us/step - loss: 107.3758 - mean_absolute_error: 8.2315 - val_loss: 170.3973 - val_mean_absolute_error: 10.4705\n",
      "Epoch 64/100\n",
      "512/512 [==============================] - 0s 130us/step - loss: 105.3262 - mean_absolute_error: 8.1499 - val_loss: 170.8024 - val_mean_absolute_error: 10.4616\n",
      "Epoch 65/100\n",
      "512/512 [==============================] - 0s 133us/step - loss: 103.4604 - mean_absolute_error: 8.0729 - val_loss: 165.4641 - val_mean_absolute_error: 10.2857\n",
      "Epoch 66/100\n",
      "512/512 [==============================] - 0s 135us/step - loss: 102.0799 - mean_absolute_error: 8.0088 - val_loss: 171.1410 - val_mean_absolute_error: 10.4578\n",
      "Epoch 67/100\n",
      "512/512 [==============================] - 0s 138us/step - loss: 100.1805 - mean_absolute_error: 7.9264 - val_loss: 163.5031 - val_mean_absolute_error: 10.1786\n",
      "Epoch 68/100\n",
      "512/512 [==============================] - 0s 118us/step - loss: 98.5466 - mean_absolute_error: 7.8499 - val_loss: 172.1386 - val_mean_absolute_error: 10.4527\n",
      "Epoch 69/100\n",
      "512/512 [==============================] - 0s 143us/step - loss: 97.0436 - mean_absolute_error: 7.8082 - val_loss: 173.0081 - val_mean_absolute_error: 10.4842\n",
      "Epoch 70/100\n",
      "512/512 [==============================] - 0s 164us/step - loss: 95.6538 - mean_absolute_error: 7.7380 - val_loss: 167.5950 - val_mean_absolute_error: 10.2684\n",
      "Epoch 71/100\n",
      "512/512 [==============================] - 0s 153us/step - loss: 94.4022 - mean_absolute_error: 7.6662 - val_loss: 167.6304 - val_mean_absolute_error: 10.2747\n",
      "Epoch 72/100\n",
      "512/512 [==============================] - 0s 157us/step - loss: 92.8796 - mean_absolute_error: 7.6087 - val_loss: 167.6374 - val_mean_absolute_error: 10.2699\n",
      "Epoch 73/100\n",
      "512/512 [==============================] - 0s 137us/step - loss: 92.0765 - mean_absolute_error: 7.5766 - val_loss: 161.2426 - val_mean_absolute_error: 10.0823\n",
      "Epoch 74/100\n",
      "512/512 [==============================] - 0s 153us/step - loss: 90.5983 - mean_absolute_error: 7.4983 - val_loss: 168.7582 - val_mean_absolute_error: 10.2976\n",
      "Epoch 75/100\n",
      "512/512 [==============================] - 0s 123us/step - loss: 89.8168 - mean_absolute_error: 7.4415 - val_loss: 166.9122 - val_mean_absolute_error: 10.2283\n",
      "Epoch 76/100\n",
      "512/512 [==============================] - 0s 114us/step - loss: 88.7523 - mean_absolute_error: 7.4160 - val_loss: 164.9681 - val_mean_absolute_error: 10.1673\n",
      "Epoch 77/100\n",
      "512/512 [==============================] - 0s 126us/step - loss: 87.4863 - mean_absolute_error: 7.3768 - val_loss: 170.0061 - val_mean_absolute_error: 10.3100\n",
      "Epoch 78/100\n",
      "512/512 [==============================] - 0s 144us/step - loss: 86.4654 - mean_absolute_error: 7.3072 - val_loss: 164.5942 - val_mean_absolute_error: 10.1334\n",
      "Epoch 79/100\n",
      "512/512 [==============================] - 0s 112us/step - loss: 85.5835 - mean_absolute_error: 7.2876 - val_loss: 166.0687 - val_mean_absolute_error: 10.1953\n",
      "Epoch 80/100\n",
      "512/512 [==============================] - 0s 136us/step - loss: 84.2673 - mean_absolute_error: 7.2382 - val_loss: 162.0838 - val_mean_absolute_error: 10.0647\n",
      "Epoch 81/100\n",
      "512/512 [==============================] - 0s 117us/step - loss: 83.4533 - mean_absolute_error: 7.1919 - val_loss: 166.5251 - val_mean_absolute_error: 10.1952\n",
      "Epoch 82/100\n",
      "512/512 [==============================] - 0s 143us/step - loss: 82.8948 - mean_absolute_error: 7.1748 - val_loss: 169.3450 - val_mean_absolute_error: 10.2831\n",
      "Epoch 83/100\n",
      "512/512 [==============================] - 0s 133us/step - loss: 82.0275 - mean_absolute_error: 7.1279 - val_loss: 160.3085 - val_mean_absolute_error: 9.9834\n",
      "Epoch 84/100\n",
      "512/512 [==============================] - 0s 152us/step - loss: 81.1235 - mean_absolute_error: 7.0872 - val_loss: 169.9589 - val_mean_absolute_error: 10.3029\n",
      "Epoch 85/100\n",
      "512/512 [==============================] - 0s 143us/step - loss: 80.2592 - mean_absolute_error: 7.0647 - val_loss: 166.8541 - val_mean_absolute_error: 10.2137\n",
      "Epoch 86/100\n",
      "512/512 [==============================] - 0s 181us/step - loss: 79.6491 - mean_absolute_error: 7.0369 - val_loss: 168.2045 - val_mean_absolute_error: 10.2794\n",
      "Epoch 87/100\n",
      "512/512 [==============================] - 0s 118us/step - loss: 79.0470 - mean_absolute_error: 7.0022 - val_loss: 165.8179 - val_mean_absolute_error: 10.1713\n",
      "Epoch 88/100\n",
      "512/512 [==============================] - 0s 117us/step - loss: 78.6068 - mean_absolute_error: 6.9974 - val_loss: 167.2105 - val_mean_absolute_error: 10.2094\n",
      "Epoch 89/100\n",
      "512/512 [==============================] - 0s 117us/step - loss: 77.6431 - mean_absolute_error: 6.9477 - val_loss: 169.8981 - val_mean_absolute_error: 10.3196\n",
      "Epoch 90/100\n",
      "512/512 [==============================] - 0s 166us/step - loss: 77.2481 - mean_absolute_error: 6.9230 - val_loss: 169.1391 - val_mean_absolute_error: 10.2949\n",
      "Epoch 91/100\n",
      "512/512 [==============================] - 0s 165us/step - loss: 76.5980 - mean_absolute_error: 6.9032 - val_loss: 171.6519 - val_mean_absolute_error: 10.3927\n",
      "Epoch 92/100\n",
      "512/512 [==============================] - 0s 125us/step - loss: 76.1839 - mean_absolute_error: 6.8850 - val_loss: 169.8320 - val_mean_absolute_error: 10.3252\n",
      "Epoch 93/100\n",
      "512/512 [==============================] - 0s 140us/step - loss: 75.8569 - mean_absolute_error: 6.8741 - val_loss: 168.4962 - val_mean_absolute_error: 10.3031\n",
      "Epoch 94/100\n",
      "512/512 [==============================] - 0s 118us/step - loss: 75.2686 - mean_absolute_error: 6.8378 - val_loss: 166.9950 - val_mean_absolute_error: 10.2473\n",
      "Epoch 95/100\n"
     ]
    },
    {
     "name": "stdout",
     "output_type": "stream",
     "text": [
      "512/512 [==============================] - 0s 164us/step - loss: 74.9485 - mean_absolute_error: 6.8385 - val_loss: 174.4885 - val_mean_absolute_error: 10.4733\n",
      "Epoch 96/100\n",
      "512/512 [==============================] - 0s 122us/step - loss: 74.2609 - mean_absolute_error: 6.8044 - val_loss: 164.1428 - val_mean_absolute_error: 10.1572\n",
      "Epoch 97/100\n",
      "512/512 [==============================] - 0s 116us/step - loss: 73.7458 - mean_absolute_error: 6.7702 - val_loss: 170.7758 - val_mean_absolute_error: 10.3793\n",
      "Epoch 98/100\n",
      "512/512 [==============================] - 0s 117us/step - loss: 73.5819 - mean_absolute_error: 6.7762 - val_loss: 169.1290 - val_mean_absolute_error: 10.3243\n",
      "Epoch 99/100\n",
      "512/512 [==============================] - 0s 149us/step - loss: 73.0169 - mean_absolute_error: 6.7459 - val_loss: 174.1809 - val_mean_absolute_error: 10.4818\n",
      "Epoch 100/100\n",
      "512/512 [==============================] - 0s 167us/step - loss: 72.7621 - mean_absolute_error: 6.7214 - val_loss: 167.1343 - val_mean_absolute_error: 10.2388\n"
     ]
    }
   ],
   "source": [
    "history = model.fit(train_data, train_label, epochs=100, validation_data=(val_data, val_label))"
   ]
  },
  {
   "cell_type": "markdown",
   "metadata": {},
   "source": [
    "# evaluation"
   ]
  },
  {
   "cell_type": "code",
   "execution_count": 30,
   "metadata": {},
   "outputs": [
    {
     "name": "stdout",
     "output_type": "stream",
     "text": [
      "312/312 [==============================] - 0s 220us/step\n"
     ]
    },
    {
     "data": {
      "text/plain": [
       "[193.16985555795523, 10.979655363620855]"
      ]
     },
     "execution_count": 30,
     "metadata": {},
     "output_type": "execute_result"
    }
   ],
   "source": [
    "model.evaluate(test_data, test_label)"
   ]
  },
  {
   "cell_type": "code",
   "execution_count": 32,
   "metadata": {},
   "outputs": [],
   "source": [
    "history_dic = history.history"
   ]
  },
  {
   "cell_type": "code",
   "execution_count": 35,
   "metadata": {},
   "outputs": [],
   "source": [
    "# graph"
   ]
  },
  {
   "cell_type": "code",
   "execution_count": 34,
   "metadata": {},
   "outputs": [
    {
     "data": {
      "image/png": "[encoded data removed]",
      "text/plain": [
       "<Figure size 432x288 with 1 Axes>"
      ]
     },
     "metadata": {
      "needs_background": "light"
     },
     "output_type": "display_data"
    }
   ],
   "source": [
    "import matplotlib.pyplot as plt\n",
    "loss_Values = history_dic[\"loss\"]\n",
    "val_loss_values = history_dic[\"val_loss\"]\n",
    "epochs = range(1, len(loss_Values) + 1)\n",
    "plt.plot(epochs, loss_Values, 'bo', label=\"training loss\")\n",
    "plt.plot(epochs, val_loss_values,'b', label=\"validation loss\")\n",
    "plt.title(\"training and validation loss\")\n",
    "plt.xlabel(\"epochs\")\n",
    "plt.ylabel(\"loss\")\n",
    "plt.legend()\n",
    "plt.show()\n"
   ]
  },
  {
   "cell_type": "code",
   "execution_count": null,
   "metadata": {},
   "outputs": [],
   "source": []
  }
 ],
 "metadata": {
  "kernelspec": {
   "display_name": "Python 3",
   "language": "python",
   "name": "python3"
  },
  "language_info": {
   "codemirror_mode": {
    "name": "ipython",
    "version": 3
   },
   "file_extension": ".py",
   "mimetype": "text/x-python",
   "name": "python",
   "nbconvert_exporter": "python",
   "pygments_lexer": "ipython3",
   "version": "3.5.6"
  }
 },
 "nbformat": 4,
 "nbformat_minor": 4
}
