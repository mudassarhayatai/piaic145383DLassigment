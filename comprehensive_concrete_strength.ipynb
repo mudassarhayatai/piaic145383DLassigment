{
 "cells": [
  {
   "cell_type": "code",
   "execution_count": 46,
   "metadata": {},
   "outputs": [],
   "source": [
    "import numpy as np\n",
    "import pandas as pd"
   ]
  },
  {
   "cell_type": "markdown",
   "metadata": {},
   "source": [
    "# loading data"
   ]
  },
  {
   "cell_type": "code",
   "execution_count": 47,
   "metadata": {},
   "outputs": [],
   "source": [
    "df = pd.read_csv(\"compresive_strength_concrete.csv\")"
   ]
  },
  {
   "cell_type": "code",
   "execution_count": 48,
   "metadata": {},
   "outputs": [
    {
     "data": {
      "text/html": [
       "<div>\n",
       "<style scoped>\n",
       "    .dataframe tbody tr th:only-of-type {\n",
       "        vertical-align: middle;\n",
       "    }\n",
       "\n",
       "    .dataframe tbody tr th {\n",
       "        vertical-align: top;\n",
       "    }\n",
       "\n",
       "    .dataframe thead th {\n",
       "        text-align: right;\n",
       "    }\n",
       "</style>\n",
       "<table border=\"1\" class=\"dataframe\">\n",
       "  <thead>\n",
       "    <tr style=\"text-align: right;\">\n",
       "      <th></th>\n",
       "      <th>Cement (component 1)(kg in a m^3 mixture)</th>\n",
       "      <th>Blast Furnace Slag (component 2)(kg in a m^3 mixture)</th>\n",
       "      <th>Fly Ash (component 3)(kg in a m^3 mixture)</th>\n",
       "      <th>Water  (component 4)(kg in a m^3 mixture)</th>\n",
       "      <th>Superplasticizer (component 5)(kg in a m^3 mixture)</th>\n",
       "      <th>Coarse Aggregate  (component 6)(kg in a m^3 mixture)</th>\n",
       "      <th>Fine Aggregate (component 7)(kg in a m^3 mixture)</th>\n",
       "      <th>Age (day)</th>\n",
       "      <th>Concrete compressive strength(MPa, megapascals)</th>\n",
       "    </tr>\n",
       "  </thead>\n",
       "  <tbody>\n",
       "    <tr>\n",
       "      <th>0</th>\n",
       "      <td>540.0</td>\n",
       "      <td>0.0</td>\n",
       "      <td>0.0</td>\n",
       "      <td>162.0</td>\n",
       "      <td>2.5</td>\n",
       "      <td>1040.0</td>\n",
       "      <td>676.0</td>\n",
       "      <td>28</td>\n",
       "      <td>79.99</td>\n",
       "    </tr>\n",
       "    <tr>\n",
       "      <th>1</th>\n",
       "      <td>540.0</td>\n",
       "      <td>0.0</td>\n",
       "      <td>0.0</td>\n",
       "      <td>162.0</td>\n",
       "      <td>2.5</td>\n",
       "      <td>1055.0</td>\n",
       "      <td>676.0</td>\n",
       "      <td>28</td>\n",
       "      <td>61.89</td>\n",
       "    </tr>\n",
       "    <tr>\n",
       "      <th>2</th>\n",
       "      <td>332.5</td>\n",
       "      <td>142.5</td>\n",
       "      <td>0.0</td>\n",
       "      <td>228.0</td>\n",
       "      <td>0.0</td>\n",
       "      <td>932.0</td>\n",
       "      <td>594.0</td>\n",
       "      <td>270</td>\n",
       "      <td>40.27</td>\n",
       "    </tr>\n",
       "    <tr>\n",
       "      <th>3</th>\n",
       "      <td>332.5</td>\n",
       "      <td>142.5</td>\n",
       "      <td>0.0</td>\n",
       "      <td>228.0</td>\n",
       "      <td>0.0</td>\n",
       "      <td>932.0</td>\n",
       "      <td>594.0</td>\n",
       "      <td>365</td>\n",
       "      <td>41.05</td>\n",
       "    </tr>\n",
       "    <tr>\n",
       "      <th>4</th>\n",
       "      <td>198.6</td>\n",
       "      <td>132.4</td>\n",
       "      <td>0.0</td>\n",
       "      <td>192.0</td>\n",
       "      <td>0.0</td>\n",
       "      <td>978.4</td>\n",
       "      <td>825.5</td>\n",
       "      <td>360</td>\n",
       "      <td>44.30</td>\n",
       "    </tr>\n",
       "  </tbody>\n",
       "</table>\n",
       "</div>"
      ],
      "text/plain": [
       "   Cement (component 1)(kg in a m^3 mixture)  \\\n",
       "0                                      540.0   \n",
       "1                                      540.0   \n",
       "2                                      332.5   \n",
       "3                                      332.5   \n",
       "4                                      198.6   \n",
       "\n",
       "   Blast Furnace Slag (component 2)(kg in a m^3 mixture)  \\\n",
       "0                                                0.0       \n",
       "1                                                0.0       \n",
       "2                                              142.5       \n",
       "3                                              142.5       \n",
       "4                                              132.4       \n",
       "\n",
       "   Fly Ash (component 3)(kg in a m^3 mixture)  \\\n",
       "0                                         0.0   \n",
       "1                                         0.0   \n",
       "2                                         0.0   \n",
       "3                                         0.0   \n",
       "4                                         0.0   \n",
       "\n",
       "   Water  (component 4)(kg in a m^3 mixture)  \\\n",
       "0                                      162.0   \n",
       "1                                      162.0   \n",
       "2                                      228.0   \n",
       "3                                      228.0   \n",
       "4                                      192.0   \n",
       "\n",
       "   Superplasticizer (component 5)(kg in a m^3 mixture)  \\\n",
       "0                                                2.5     \n",
       "1                                                2.5     \n",
       "2                                                0.0     \n",
       "3                                                0.0     \n",
       "4                                                0.0     \n",
       "\n",
       "   Coarse Aggregate  (component 6)(kg in a m^3 mixture)  \\\n",
       "0                                             1040.0      \n",
       "1                                             1055.0      \n",
       "2                                              932.0      \n",
       "3                                              932.0      \n",
       "4                                              978.4      \n",
       "\n",
       "   Fine Aggregate (component 7)(kg in a m^3 mixture)  Age (day)  \\\n",
       "0                                              676.0         28   \n",
       "1                                              676.0         28   \n",
       "2                                              594.0        270   \n",
       "3                                              594.0        365   \n",
       "4                                              825.5        360   \n",
       "\n",
       "   Concrete compressive strength(MPa, megapascals)   \n",
       "0                                             79.99  \n",
       "1                                             61.89  \n",
       "2                                             40.27  \n",
       "3                                             41.05  \n",
       "4                                             44.30  "
      ]
     },
     "execution_count": 48,
     "metadata": {},
     "output_type": "execute_result"
    }
   ],
   "source": [
    "df.head()"
   ]
  },
  {
   "cell_type": "code",
   "execution_count": 49,
   "metadata": {},
   "outputs": [
    {
     "data": {
      "text/plain": [
       "(1030, 9)"
      ]
     },
     "execution_count": 49,
     "metadata": {},
     "output_type": "execute_result"
    }
   ],
   "source": [
    "df.shape"
   ]
  },
  {
   "cell_type": "code",
   "execution_count": 50,
   "metadata": {},
   "outputs": [
    {
     "name": "stdout",
     "output_type": "stream",
     "text": [
      "<class 'pandas.core.frame.DataFrame'>\n",
      "RangeIndex: 1030 entries, 0 to 1029\n",
      "Data columns (total 9 columns):\n",
      "Cement (component 1)(kg in a m^3 mixture)                1030 non-null float64\n",
      "Blast Furnace Slag (component 2)(kg in a m^3 mixture)    1030 non-null float64\n",
      "Fly Ash (component 3)(kg in a m^3 mixture)               1030 non-null float64\n",
      "Water  (component 4)(kg in a m^3 mixture)                1030 non-null float64\n",
      "Superplasticizer (component 5)(kg in a m^3 mixture)      1030 non-null float64\n",
      "Coarse Aggregate  (component 6)(kg in a m^3 mixture)     1030 non-null float64\n",
      "Fine Aggregate (component 7)(kg in a m^3 mixture)        1030 non-null float64\n",
      "Age (day)                                                1030 non-null int64\n",
      "Concrete compressive strength(MPa, megapascals)          1030 non-null float64\n",
      "dtypes: float64(8), int64(1)\n",
      "memory usage: 72.5 KB\n"
     ]
    }
   ],
   "source": [
    "df.info()"
   ]
  },
  {
   "cell_type": "markdown",
   "metadata": {},
   "source": [
    "# checking missing value"
   ]
  },
  {
   "cell_type": "code",
   "execution_count": 51,
   "metadata": {},
   "outputs": [
    {
     "data": {
      "text/plain": [
       "Cement (component 1)(kg in a m^3 mixture)                0\n",
       "Blast Furnace Slag (component 2)(kg in a m^3 mixture)    0\n",
       "Fly Ash (component 3)(kg in a m^3 mixture)               0\n",
       "Water  (component 4)(kg in a m^3 mixture)                0\n",
       "Superplasticizer (component 5)(kg in a m^3 mixture)      0\n",
       "Coarse Aggregate  (component 6)(kg in a m^3 mixture)     0\n",
       "Fine Aggregate (component 7)(kg in a m^3 mixture)        0\n",
       "Age (day)                                                0\n",
       "Concrete compressive strength(MPa, megapascals)          0\n",
       "dtype: int64"
      ]
     },
     "execution_count": 51,
     "metadata": {},
     "output_type": "execute_result"
    }
   ],
   "source": [
    "df.isnull().sum()"
   ]
  },
  {
   "cell_type": "code",
   "execution_count": 52,
   "metadata": {},
   "outputs": [
    {
     "data": {
      "text/plain": [
       "Index(['Cement (component 1)(kg in a m^3 mixture)',\n",
       "       'Blast Furnace Slag (component 2)(kg in a m^3 mixture)',\n",
       "       'Fly Ash (component 3)(kg in a m^3 mixture)',\n",
       "       'Water  (component 4)(kg in a m^3 mixture)',\n",
       "       'Superplasticizer (component 5)(kg in a m^3 mixture)',\n",
       "       'Coarse Aggregate  (component 6)(kg in a m^3 mixture)',\n",
       "       'Fine Aggregate (component 7)(kg in a m^3 mixture)', 'Age (day)',\n",
       "       'Concrete compressive strength(MPa, megapascals) '],\n",
       "      dtype='object')"
      ]
     },
     "execution_count": 52,
     "metadata": {},
     "output_type": "execute_result"
    }
   ],
   "source": [
    "df.columns"
   ]
  },
  {
   "cell_type": "markdown",
   "metadata": {},
   "source": [
    "# data splting"
   ]
  },
  {
   "cell_type": "code",
   "execution_count": 53,
   "metadata": {},
   "outputs": [],
   "source": [
    "target = df[\"Concrete compressive strength(MPa, megapascals) \"]"
   ]
  },
  {
   "cell_type": "code",
   "execution_count": 54,
   "metadata": {},
   "outputs": [
    {
     "data": {
      "text/plain": [
       "0       79.99\n",
       "1       61.89\n",
       "2       40.27\n",
       "3       41.05\n",
       "4       44.30\n",
       "5       47.03\n",
       "6       43.70\n",
       "7       36.45\n",
       "8       45.85\n",
       "9       39.29\n",
       "10      38.07\n",
       "11      28.02\n",
       "12      43.01\n",
       "13      42.33\n",
       "14      47.81\n",
       "15      52.91\n",
       "16      39.36\n",
       "17      56.14\n",
       "18      40.56\n",
       "19      42.62\n",
       "20      41.84\n",
       "21      28.24\n",
       "22       8.06\n",
       "23      44.21\n",
       "24      52.52\n",
       "25      53.30\n",
       "26      41.15\n",
       "27      52.12\n",
       "28      37.43\n",
       "29      38.60\n",
       "        ...  \n",
       "1000    44.61\n",
       "1001    53.52\n",
       "1002    57.22\n",
       "1003    65.91\n",
       "1004    52.83\n",
       "1005    33.40\n",
       "1006    18.03\n",
       "1007    37.36\n",
       "1008    35.31\n",
       "1009    42.64\n",
       "1010    40.06\n",
       "1011    43.80\n",
       "1012    61.24\n",
       "1013    40.87\n",
       "1014    33.31\n",
       "1015    52.43\n",
       "1016    15.09\n",
       "1017    38.46\n",
       "1018    37.27\n",
       "1019    35.23\n",
       "1020    42.14\n",
       "1021    31.88\n",
       "1022    41.54\n",
       "1023    39.46\n",
       "1024    37.92\n",
       "1025    44.28\n",
       "1026    31.18\n",
       "1027    23.70\n",
       "1028    32.77\n",
       "1029    32.40\n",
       "Name: Concrete compressive strength(MPa, megapascals) , Length: 1030, dtype: float64"
      ]
     },
     "execution_count": 54,
     "metadata": {},
     "output_type": "execute_result"
    }
   ],
   "source": [
    "target"
   ]
  },
  {
   "cell_type": "code",
   "execution_count": 55,
   "metadata": {},
   "outputs": [],
   "source": [
    "data = df.drop(columns=\"Concrete compressive strength(MPa, megapascals) \"  )"
   ]
  },
  {
   "cell_type": "code",
   "execution_count": 56,
   "metadata": {},
   "outputs": [
    {
     "data": {
      "text/html": [
       "<div>\n",
       "<style scoped>\n",
       "    .dataframe tbody tr th:only-of-type {\n",
       "        vertical-align: middle;\n",
       "    }\n",
       "\n",
       "    .dataframe tbody tr th {\n",
       "        vertical-align: top;\n",
       "    }\n",
       "\n",
       "    .dataframe thead th {\n",
       "        text-align: right;\n",
       "    }\n",
       "</style>\n",
       "<table border=\"1\" class=\"dataframe\">\n",
       "  <thead>\n",
       "    <tr style=\"text-align: right;\">\n",
       "      <th></th>\n",
       "      <th>Cement (component 1)(kg in a m^3 mixture)</th>\n",
       "      <th>Blast Furnace Slag (component 2)(kg in a m^3 mixture)</th>\n",
       "      <th>Fly Ash (component 3)(kg in a m^3 mixture)</th>\n",
       "      <th>Water  (component 4)(kg in a m^3 mixture)</th>\n",
       "      <th>Superplasticizer (component 5)(kg in a m^3 mixture)</th>\n",
       "      <th>Coarse Aggregate  (component 6)(kg in a m^3 mixture)</th>\n",
       "      <th>Fine Aggregate (component 7)(kg in a m^3 mixture)</th>\n",
       "      <th>Age (day)</th>\n",
       "    </tr>\n",
       "  </thead>\n",
       "  <tbody>\n",
       "    <tr>\n",
       "      <th>0</th>\n",
       "      <td>540.0</td>\n",
       "      <td>0.0</td>\n",
       "      <td>0.0</td>\n",
       "      <td>162.0</td>\n",
       "      <td>2.5</td>\n",
       "      <td>1040.0</td>\n",
       "      <td>676.0</td>\n",
       "      <td>28</td>\n",
       "    </tr>\n",
       "    <tr>\n",
       "      <th>1</th>\n",
       "      <td>540.0</td>\n",
       "      <td>0.0</td>\n",
       "      <td>0.0</td>\n",
       "      <td>162.0</td>\n",
       "      <td>2.5</td>\n",
       "      <td>1055.0</td>\n",
       "      <td>676.0</td>\n",
       "      <td>28</td>\n",
       "    </tr>\n",
       "    <tr>\n",
       "      <th>2</th>\n",
       "      <td>332.5</td>\n",
       "      <td>142.5</td>\n",
       "      <td>0.0</td>\n",
       "      <td>228.0</td>\n",
       "      <td>0.0</td>\n",
       "      <td>932.0</td>\n",
       "      <td>594.0</td>\n",
       "      <td>270</td>\n",
       "    </tr>\n",
       "    <tr>\n",
       "      <th>3</th>\n",
       "      <td>332.5</td>\n",
       "      <td>142.5</td>\n",
       "      <td>0.0</td>\n",
       "      <td>228.0</td>\n",
       "      <td>0.0</td>\n",
       "      <td>932.0</td>\n",
       "      <td>594.0</td>\n",
       "      <td>365</td>\n",
       "    </tr>\n",
       "    <tr>\n",
       "      <th>4</th>\n",
       "      <td>198.6</td>\n",
       "      <td>132.4</td>\n",
       "      <td>0.0</td>\n",
       "      <td>192.0</td>\n",
       "      <td>0.0</td>\n",
       "      <td>978.4</td>\n",
       "      <td>825.5</td>\n",
       "      <td>360</td>\n",
       "    </tr>\n",
       "  </tbody>\n",
       "</table>\n",
       "</div>"
      ],
      "text/plain": [
       "   Cement (component 1)(kg in a m^3 mixture)  \\\n",
       "0                                      540.0   \n",
       "1                                      540.0   \n",
       "2                                      332.5   \n",
       "3                                      332.5   \n",
       "4                                      198.6   \n",
       "\n",
       "   Blast Furnace Slag (component 2)(kg in a m^3 mixture)  \\\n",
       "0                                                0.0       \n",
       "1                                                0.0       \n",
       "2                                              142.5       \n",
       "3                                              142.5       \n",
       "4                                              132.4       \n",
       "\n",
       "   Fly Ash (component 3)(kg in a m^3 mixture)  \\\n",
       "0                                         0.0   \n",
       "1                                         0.0   \n",
       "2                                         0.0   \n",
       "3                                         0.0   \n",
       "4                                         0.0   \n",
       "\n",
       "   Water  (component 4)(kg in a m^3 mixture)  \\\n",
       "0                                      162.0   \n",
       "1                                      162.0   \n",
       "2                                      228.0   \n",
       "3                                      228.0   \n",
       "4                                      192.0   \n",
       "\n",
       "   Superplasticizer (component 5)(kg in a m^3 mixture)  \\\n",
       "0                                                2.5     \n",
       "1                                                2.5     \n",
       "2                                                0.0     \n",
       "3                                                0.0     \n",
       "4                                                0.0     \n",
       "\n",
       "   Coarse Aggregate  (component 6)(kg in a m^3 mixture)  \\\n",
       "0                                             1040.0      \n",
       "1                                             1055.0      \n",
       "2                                              932.0      \n",
       "3                                              932.0      \n",
       "4                                              978.4      \n",
       "\n",
       "   Fine Aggregate (component 7)(kg in a m^3 mixture)  Age (day)  \n",
       "0                                              676.0         28  \n",
       "1                                              676.0         28  \n",
       "2                                              594.0        270  \n",
       "3                                              594.0        365  \n",
       "4                                              825.5        360  "
      ]
     },
     "execution_count": 56,
     "metadata": {},
     "output_type": "execute_result"
    }
   ],
   "source": [
    "data.head()"
   ]
  },
  {
   "cell_type": "code",
   "execution_count": 57,
   "metadata": {},
   "outputs": [
    {
     "data": {
      "text/plain": [
       "(1030, 8)"
      ]
     },
     "execution_count": 57,
     "metadata": {},
     "output_type": "execute_result"
    }
   ],
   "source": [
    "data.shape"
   ]
  },
  {
   "cell_type": "code",
   "execution_count": 58,
   "metadata": {},
   "outputs": [],
   "source": [
    "train_data = data.iloc[:512]\n",
    "train_label = target.iloc[:512]"
   ]
  },
  {
   "cell_type": "code",
   "execution_count": 59,
   "metadata": {},
   "outputs": [],
   "source": [
    "val_data = data.iloc[512:718]\n",
    "val_label = target.iloc[512:718]"
   ]
  },
  {
   "cell_type": "code",
   "execution_count": 60,
   "metadata": {},
   "outputs": [],
   "source": [
    "test_data = data.iloc[718:]\n",
    "test_label = target.iloc[718:]"
   ]
  },
  {
   "cell_type": "code",
   "execution_count": 61,
   "metadata": {},
   "outputs": [
    {
     "data": {
      "text/plain": [
       "(512, 8)"
      ]
     },
     "execution_count": 61,
     "metadata": {},
     "output_type": "execute_result"
    }
   ],
   "source": [
    "train_data.shape"
   ]
  },
  {
   "cell_type": "code",
   "execution_count": 62,
   "metadata": {},
   "outputs": [
    {
     "data": {
      "text/plain": [
       "(206, 8)"
      ]
     },
     "execution_count": 62,
     "metadata": {},
     "output_type": "execute_result"
    }
   ],
   "source": [
    "val_data.shape"
   ]
  },
  {
   "cell_type": "code",
   "execution_count": 63,
   "metadata": {},
   "outputs": [
    {
     "data": {
      "text/plain": [
       "(312, 8)"
      ]
     },
     "execution_count": 63,
     "metadata": {},
     "output_type": "execute_result"
    }
   ],
   "source": [
    "test_data.shape"
   ]
  },
  {
   "cell_type": "code",
   "execution_count": 64,
   "metadata": {},
   "outputs": [
    {
     "data": {
      "text/html": [
       "<div>\n",
       "<style scoped>\n",
       "    .dataframe tbody tr th:only-of-type {\n",
       "        vertical-align: middle;\n",
       "    }\n",
       "\n",
       "    .dataframe tbody tr th {\n",
       "        vertical-align: top;\n",
       "    }\n",
       "\n",
       "    .dataframe thead th {\n",
       "        text-align: right;\n",
       "    }\n",
       "</style>\n",
       "<table border=\"1\" class=\"dataframe\">\n",
       "  <thead>\n",
       "    <tr style=\"text-align: right;\">\n",
       "      <th></th>\n",
       "      <th>Cement (component 1)(kg in a m^3 mixture)</th>\n",
       "      <th>Blast Furnace Slag (component 2)(kg in a m^3 mixture)</th>\n",
       "      <th>Fly Ash (component 3)(kg in a m^3 mixture)</th>\n",
       "      <th>Water  (component 4)(kg in a m^3 mixture)</th>\n",
       "      <th>Superplasticizer (component 5)(kg in a m^3 mixture)</th>\n",
       "      <th>Coarse Aggregate  (component 6)(kg in a m^3 mixture)</th>\n",
       "      <th>Fine Aggregate (component 7)(kg in a m^3 mixture)</th>\n",
       "      <th>Age (day)</th>\n",
       "    </tr>\n",
       "  </thead>\n",
       "  <tbody>\n",
       "    <tr>\n",
       "      <th>0</th>\n",
       "      <td>540.0</td>\n",
       "      <td>0.0</td>\n",
       "      <td>0.0</td>\n",
       "      <td>162.0</td>\n",
       "      <td>2.5</td>\n",
       "      <td>1040.0</td>\n",
       "      <td>676.0</td>\n",
       "      <td>28</td>\n",
       "    </tr>\n",
       "    <tr>\n",
       "      <th>1</th>\n",
       "      <td>540.0</td>\n",
       "      <td>0.0</td>\n",
       "      <td>0.0</td>\n",
       "      <td>162.0</td>\n",
       "      <td>2.5</td>\n",
       "      <td>1055.0</td>\n",
       "      <td>676.0</td>\n",
       "      <td>28</td>\n",
       "    </tr>\n",
       "    <tr>\n",
       "      <th>2</th>\n",
       "      <td>332.5</td>\n",
       "      <td>142.5</td>\n",
       "      <td>0.0</td>\n",
       "      <td>228.0</td>\n",
       "      <td>0.0</td>\n",
       "      <td>932.0</td>\n",
       "      <td>594.0</td>\n",
       "      <td>270</td>\n",
       "    </tr>\n",
       "    <tr>\n",
       "      <th>3</th>\n",
       "      <td>332.5</td>\n",
       "      <td>142.5</td>\n",
       "      <td>0.0</td>\n",
       "      <td>228.0</td>\n",
       "      <td>0.0</td>\n",
       "      <td>932.0</td>\n",
       "      <td>594.0</td>\n",
       "      <td>365</td>\n",
       "    </tr>\n",
       "    <tr>\n",
       "      <th>4</th>\n",
       "      <td>198.6</td>\n",
       "      <td>132.4</td>\n",
       "      <td>0.0</td>\n",
       "      <td>192.0</td>\n",
       "      <td>0.0</td>\n",
       "      <td>978.4</td>\n",
       "      <td>825.5</td>\n",
       "      <td>360</td>\n",
       "    </tr>\n",
       "  </tbody>\n",
       "</table>\n",
       "</div>"
      ],
      "text/plain": [
       "   Cement (component 1)(kg in a m^3 mixture)  \\\n",
       "0                                      540.0   \n",
       "1                                      540.0   \n",
       "2                                      332.5   \n",
       "3                                      332.5   \n",
       "4                                      198.6   \n",
       "\n",
       "   Blast Furnace Slag (component 2)(kg in a m^3 mixture)  \\\n",
       "0                                                0.0       \n",
       "1                                                0.0       \n",
       "2                                              142.5       \n",
       "3                                              142.5       \n",
       "4                                              132.4       \n",
       "\n",
       "   Fly Ash (component 3)(kg in a m^3 mixture)  \\\n",
       "0                                         0.0   \n",
       "1                                         0.0   \n",
       "2                                         0.0   \n",
       "3                                         0.0   \n",
       "4                                         0.0   \n",
       "\n",
       "   Water  (component 4)(kg in a m^3 mixture)  \\\n",
       "0                                      162.0   \n",
       "1                                      162.0   \n",
       "2                                      228.0   \n",
       "3                                      228.0   \n",
       "4                                      192.0   \n",
       "\n",
       "   Superplasticizer (component 5)(kg in a m^3 mixture)  \\\n",
       "0                                                2.5     \n",
       "1                                                2.5     \n",
       "2                                                0.0     \n",
       "3                                                0.0     \n",
       "4                                                0.0     \n",
       "\n",
       "   Coarse Aggregate  (component 6)(kg in a m^3 mixture)  \\\n",
       "0                                             1040.0      \n",
       "1                                             1055.0      \n",
       "2                                              932.0      \n",
       "3                                              932.0      \n",
       "4                                              978.4      \n",
       "\n",
       "   Fine Aggregate (component 7)(kg in a m^3 mixture)  Age (day)  \n",
       "0                                              676.0         28  \n",
       "1                                              676.0         28  \n",
       "2                                              594.0        270  \n",
       "3                                              594.0        365  \n",
       "4                                              825.5        360  "
      ]
     },
     "execution_count": 64,
     "metadata": {},
     "output_type": "execute_result"
    }
   ],
   "source": [
    "train_data.head()"
   ]
  },
  {
   "cell_type": "markdown",
   "metadata": {},
   "source": [
    "# normaliazation"
   ]
  },
  {
   "cell_type": "code",
   "execution_count": 65,
   "metadata": {},
   "outputs": [],
   "source": [
    "mean=train_data.mean(axis=0)\n",
    "train_data -= mean\n",
    "std = train_data.std(axis=0)\n",
    "train_data /= std"
   ]
  },
  {
   "cell_type": "code",
   "execution_count": 66,
   "metadata": {},
   "outputs": [],
   "source": [
    "val_data -= mean\n",
    "val_data /= std"
   ]
  },
  {
   "cell_type": "code",
   "execution_count": 67,
   "metadata": {},
   "outputs": [],
   "source": [
    "test_data -= mean\n",
    "test_data /= std"
   ]
  },
  {
   "cell_type": "code",
   "execution_count": 68,
   "metadata": {},
   "outputs": [
    {
     "data": {
      "text/html": [
       "<div>\n",
       "<style scoped>\n",
       "    .dataframe tbody tr th:only-of-type {\n",
       "        vertical-align: middle;\n",
       "    }\n",
       "\n",
       "    .dataframe tbody tr th {\n",
       "        vertical-align: top;\n",
       "    }\n",
       "\n",
       "    .dataframe thead th {\n",
       "        text-align: right;\n",
       "    }\n",
       "</style>\n",
       "<table border=\"1\" class=\"dataframe\">\n",
       "  <thead>\n",
       "    <tr style=\"text-align: right;\">\n",
       "      <th></th>\n",
       "      <th>Cement (component 1)(kg in a m^3 mixture)</th>\n",
       "      <th>Blast Furnace Slag (component 2)(kg in a m^3 mixture)</th>\n",
       "      <th>Fly Ash (component 3)(kg in a m^3 mixture)</th>\n",
       "      <th>Water  (component 4)(kg in a m^3 mixture)</th>\n",
       "      <th>Superplasticizer (component 5)(kg in a m^3 mixture)</th>\n",
       "      <th>Coarse Aggregate  (component 6)(kg in a m^3 mixture)</th>\n",
       "      <th>Fine Aggregate (component 7)(kg in a m^3 mixture)</th>\n",
       "      <th>Age (day)</th>\n",
       "    </tr>\n",
       "  </thead>\n",
       "  <tbody>\n",
       "    <tr>\n",
       "      <th>0</th>\n",
       "      <td>2.327316</td>\n",
       "      <td>-0.845072</td>\n",
       "      <td>-1.108737</td>\n",
       "      <td>-0.473803</td>\n",
       "      <td>-1.032249</td>\n",
       "      <td>0.804248</td>\n",
       "      <td>-1.195888</td>\n",
       "      <td>-0.360493</td>\n",
       "    </tr>\n",
       "    <tr>\n",
       "      <th>1</th>\n",
       "      <td>2.327316</td>\n",
       "      <td>-0.845072</td>\n",
       "      <td>-1.108737</td>\n",
       "      <td>-0.473803</td>\n",
       "      <td>-1.032249</td>\n",
       "      <td>1.008715</td>\n",
       "      <td>-1.195888</td>\n",
       "      <td>-0.360493</td>\n",
       "    </tr>\n",
       "    <tr>\n",
       "      <th>2</th>\n",
       "      <td>0.339221</td>\n",
       "      <td>1.026635</td>\n",
       "      <td>-1.108737</td>\n",
       "      <td>2.191013</td>\n",
       "      <td>-1.454100</td>\n",
       "      <td>-0.667910</td>\n",
       "      <td>-2.145435</td>\n",
       "      <td>3.133174</td>\n",
       "    </tr>\n",
       "    <tr>\n",
       "      <th>3</th>\n",
       "      <td>0.339221</td>\n",
       "      <td>1.026635</td>\n",
       "      <td>-1.108737</td>\n",
       "      <td>2.191013</td>\n",
       "      <td>-1.454100</td>\n",
       "      <td>-0.667910</td>\n",
       "      <td>-2.145435</td>\n",
       "      <td>4.504654</td>\n",
       "    </tr>\n",
       "    <tr>\n",
       "      <th>4</th>\n",
       "      <td>-0.943700</td>\n",
       "      <td>0.893974</td>\n",
       "      <td>-1.108737</td>\n",
       "      <td>0.737477</td>\n",
       "      <td>-1.454100</td>\n",
       "      <td>-0.035428</td>\n",
       "      <td>0.535299</td>\n",
       "      <td>4.432471</td>\n",
       "    </tr>\n",
       "  </tbody>\n",
       "</table>\n",
       "</div>"
      ],
      "text/plain": [
       "   Cement (component 1)(kg in a m^3 mixture)  \\\n",
       "0                                   2.327316   \n",
       "1                                   2.327316   \n",
       "2                                   0.339221   \n",
       "3                                   0.339221   \n",
       "4                                  -0.943700   \n",
       "\n",
       "   Blast Furnace Slag (component 2)(kg in a m^3 mixture)  \\\n",
       "0                                          -0.845072       \n",
       "1                                          -0.845072       \n",
       "2                                           1.026635       \n",
       "3                                           1.026635       \n",
       "4                                           0.893974       \n",
       "\n",
       "   Fly Ash (component 3)(kg in a m^3 mixture)  \\\n",
       "0                                   -1.108737   \n",
       "1                                   -1.108737   \n",
       "2                                   -1.108737   \n",
       "3                                   -1.108737   \n",
       "4                                   -1.108737   \n",
       "\n",
       "   Water  (component 4)(kg in a m^3 mixture)  \\\n",
       "0                                  -0.473803   \n",
       "1                                  -0.473803   \n",
       "2                                   2.191013   \n",
       "3                                   2.191013   \n",
       "4                                   0.737477   \n",
       "\n",
       "   Superplasticizer (component 5)(kg in a m^3 mixture)  \\\n",
       "0                                          -1.032249     \n",
       "1                                          -1.032249     \n",
       "2                                          -1.454100     \n",
       "3                                          -1.454100     \n",
       "4                                          -1.454100     \n",
       "\n",
       "   Coarse Aggregate  (component 6)(kg in a m^3 mixture)  \\\n",
       "0                                           0.804248      \n",
       "1                                           1.008715      \n",
       "2                                          -0.667910      \n",
       "3                                          -0.667910      \n",
       "4                                          -0.035428      \n",
       "\n",
       "   Fine Aggregate (component 7)(kg in a m^3 mixture)  Age (day)  \n",
       "0                                          -1.195888  -0.360493  \n",
       "1                                          -1.195888  -0.360493  \n",
       "2                                          -2.145435   3.133174  \n",
       "3                                          -2.145435   4.504654  \n",
       "4                                           0.535299   4.432471  "
      ]
     },
     "execution_count": 68,
     "metadata": {},
     "output_type": "execute_result"
    }
   ],
   "source": [
    "train_data.head()"
   ]
  },
  {
   "cell_type": "code",
   "execution_count": 69,
   "metadata": {},
   "outputs": [],
   "source": [
    "from keras import models\n",
    "from keras import layers\n",
    "from keras import regularizers\n",
    "from keras import Sequential"
   ]
  },
  {
   "cell_type": "markdown",
   "metadata": {},
   "source": [
    "# model"
   ]
  },
  {
   "cell_type": "code",
   "execution_count": 70,
   "metadata": {},
   "outputs": [],
   "source": [
    "model = Sequential()"
   ]
  },
  {
   "cell_type": "code",
   "execution_count": 71,
   "metadata": {},
   "outputs": [],
   "source": [
    "model.add(layers.Dense(10, activation='relu', kernel_regularizer=regularizers.l1_l2(l1=0.001,l2=0.002), \n",
    "                         input_shape=(train_data.shape[1],)))\n",
    "model.add(layers.Dense(8, activation='relu'))\n",
    "model.add(layers.Dense(6, activation='relu'))\n",
    "model.add(layers.Dense(4, activation='relu'))\n",
    "model.add(layers.Dense(1))"
   ]
  },
  {
   "cell_type": "code",
   "execution_count": 72,
   "metadata": {},
   "outputs": [
    {
     "name": "stdout",
     "output_type": "stream",
     "text": [
      "_________________________________________________________________\n",
      "Layer (type)                 Output Shape              Param #   \n",
      "=================================================================\n",
      "dense_11 (Dense)             (None, 10)                90        \n",
      "_________________________________________________________________\n",
      "dense_12 (Dense)             (None, 8)                 88        \n",
      "_________________________________________________________________\n",
      "dense_13 (Dense)             (None, 6)                 54        \n",
      "_________________________________________________________________\n",
      "dense_14 (Dense)             (None, 4)                 28        \n",
      "_________________________________________________________________\n",
      "dense_15 (Dense)             (None, 1)                 5         \n",
      "=================================================================\n",
      "Total params: 265\n",
      "Trainable params: 265\n",
      "Non-trainable params: 0\n",
      "_________________________________________________________________\n"
     ]
    }
   ],
   "source": [
    "model.summary()"
   ]
  },
  {
   "cell_type": "markdown",
   "metadata": {},
   "source": [
    "# compiling"
   ]
  },
  {
   "cell_type": "code",
   "execution_count": 88,
   "metadata": {},
   "outputs": [],
   "source": [
    "model.compile(optimizer=\"adam\", loss=\"mse\", metrics=[\"mean_absolute_error\"])"
   ]
  },
  {
   "cell_type": "markdown",
   "metadata": {},
   "source": [
    "# training"
   ]
  },
  {
   "cell_type": "code",
   "execution_count": 89,
   "metadata": {},
   "outputs": [
    {
     "name": "stdout",
     "output_type": "stream",
     "text": [
      "Train on 512 samples, validate on 206 samples\n",
      "Epoch 1/50\n",
      "512/512 [==============================] - 1s 2ms/step - loss: 2148.5844 - mean_absolute_error: 43.1323 - val_loss: 800.7979 - val_mean_absolute_error: 24.9818\n",
      "Epoch 2/50\n",
      "512/512 [==============================] - 0s 236us/step - loss: 2069.7732 - mean_absolute_error: 42.2752 - val_loss: 793.1804 - val_mean_absolute_error: 24.8295\n",
      "Epoch 3/50\n",
      "512/512 [==============================] - 0s 218us/step - loss: 2065.3979 - mean_absolute_error: 42.2265 - val_loss: 792.3916 - val_mean_absolute_error: 24.8136\n",
      "Epoch 4/50\n",
      "512/512 [==============================] - 0s 265us/step - loss: 2064.0566 - mean_absolute_error: 42.2106 - val_loss: 791.6028 - val_mean_absolute_error: 24.7977\n",
      "Epoch 5/50\n",
      "512/512 [==============================] - 0s 219us/step - loss: 2062.7220 - mean_absolute_error: 42.1947 - val_loss: 790.8100 - val_mean_absolute_error: 24.7818\n",
      "Epoch 6/50\n",
      "512/512 [==============================] - 0s 351us/step - loss: 2061.3623 - mean_absolute_error: 42.1789 - val_loss: 790.0307 - val_mean_absolute_error: 24.7661\n",
      "Epoch 7/50\n",
      "512/512 [==============================] - 0s 356us/step - loss: 2060.0352 - mean_absolute_error: 42.1630 - val_loss: 789.2379 - val_mean_absolute_error: 24.7501\n",
      "Epoch 8/50\n",
      "512/512 [==============================] - 0s 257us/step - loss: 2058.6913 - mean_absolute_error: 42.1471 - val_loss: 788.4473 - val_mean_absolute_error: 24.7342\n",
      "Epoch 9/50\n",
      "512/512 [==============================] - 0s 216us/step - loss: 2057.3454 - mean_absolute_error: 42.1312 - val_loss: 787.6610 - val_mean_absolute_error: 24.7183\n",
      "Epoch 10/50\n",
      "512/512 [==============================] - 0s 374us/step - loss: 2056.0073 - mean_absolute_error: 42.1153 - val_loss: 786.8722 - val_mean_absolute_error: 24.7024\n",
      "Epoch 11/50\n",
      "512/512 [==============================] - 0s 358us/step - loss: 2054.6617 - mean_absolute_error: 42.0994 - val_loss: 786.0876 - val_mean_absolute_error: 24.6865\n",
      "Epoch 12/50\n",
      "512/512 [==============================] - 0s 305us/step - loss: 2053.3311 - mean_absolute_error: 42.0834 - val_loss: 785.2957 - val_mean_absolute_error: 24.6705\n",
      "Epoch 13/50\n",
      "512/512 [==============================] - 0s 311us/step - loss: 2051.9785 - mean_absolute_error: 42.0675 - val_loss: 784.5157 - val_mean_absolute_error: 24.6547\n",
      "Epoch 14/50\n",
      "512/512 [==============================] - 0s 324us/step - loss: 2050.6477 - mean_absolute_error: 42.0517 - val_loss: 783.7283 - val_mean_absolute_error: 24.6387\n",
      "Epoch 15/50\n",
      "512/512 [==============================] - 0s 318us/step - loss: 2049.3068 - mean_absolute_error: 42.0357 - val_loss: 782.9440 - val_mean_absolute_error: 24.6228\n",
      "Epoch 16/50\n",
      "512/512 [==============================] - 0s 387us/step - loss: 2047.9653 - mean_absolute_error: 42.0199 - val_loss: 782.1630 - val_mean_absolute_error: 24.6070\n",
      "Epoch 17/50\n",
      "512/512 [==============================] - 0s 376us/step - loss: 2046.6365 - mean_absolute_error: 42.0039 - val_loss: 781.3754 - val_mean_absolute_error: 24.5910\n",
      "Epoch 18/50\n",
      "512/512 [==============================] - 0s 296us/step - loss: 2045.2918 - mean_absolute_error: 41.9880 - val_loss: 780.5955 - val_mean_absolute_error: 24.5752\n",
      "Epoch 19/50\n",
      "512/512 [==============================] - 0s 221us/step - loss: 2043.9634 - mean_absolute_error: 41.9721 - val_loss: 779.8101 - val_mean_absolute_error: 24.5592\n",
      "Epoch 20/50\n",
      "512/512 [==============================] - 0s 226us/step - loss: 2042.6285 - mean_absolute_error: 41.9561 - val_loss: 779.0257 - val_mean_absolute_error: 24.5432\n",
      "Epoch 21/50\n",
      "512/512 [==============================] - 0s 233us/step - loss: 2041.2824 - mean_absolute_error: 41.9403 - val_loss: 778.2522 - val_mean_absolute_error: 24.5275\n",
      "Epoch 22/50\n",
      "512/512 [==============================] - 0s 249us/step - loss: 2039.9618 - mean_absolute_error: 41.9244 - val_loss: 777.4676 - val_mean_absolute_error: 24.5115\n",
      "Epoch 23/50\n",
      "512/512 [==============================] - 0s 257us/step - loss: 2038.6192 - mean_absolute_error: 41.9086 - val_loss: 776.6921 - val_mean_absolute_error: 24.4957\n",
      "Epoch 24/50\n",
      "512/512 [==============================] - 0s 269us/step - loss: 2037.2881 - mean_absolute_error: 41.8927 - val_loss: 775.9156 - val_mean_absolute_error: 24.4799\n",
      "Epoch 25/50\n",
      "512/512 [==============================] - 0s 254us/step - loss: 2035.9624 - mean_absolute_error: 41.8768 - val_loss: 775.1340 - val_mean_absolute_error: 24.4639\n",
      "Epoch 26/50\n",
      "512/512 [==============================] - 0s 216us/step - loss: 2034.6300 - mean_absolute_error: 41.8609 - val_loss: 774.3546 - val_mean_absolute_error: 24.4480\n",
      "Epoch 27/50\n",
      "512/512 [==============================] - 0s 214us/step - loss: 2033.2935 - mean_absolute_error: 41.8450 - val_loss: 773.5811 - val_mean_absolute_error: 24.4322\n",
      "Epoch 28/50\n",
      "512/512 [==============================] - 0s 309us/step - loss: 2031.9742 - mean_absolute_error: 41.8291 - val_loss: 772.7997 - val_mean_absolute_error: 24.4162\n",
      "Epoch 29/50\n",
      "512/512 [==============================] - 0s 220us/step - loss: 2030.6337 - mean_absolute_error: 41.8132 - val_loss: 772.0291 - val_mean_absolute_error: 24.4004\n",
      "Epoch 30/50\n",
      "512/512 [==============================] - 0s 232us/step - loss: 2029.3128 - mean_absolute_error: 41.7974 - val_loss: 771.2523 - val_mean_absolute_error: 24.3845\n",
      "Epoch 31/50\n",
      "512/512 [==============================] - 0s 247us/step - loss: 2027.9822 - mean_absolute_error: 41.7815 - val_loss: 770.4789 - val_mean_absolute_error: 24.3686\n",
      "Epoch 32/50\n",
      "512/512 [==============================] - 0s 225us/step - loss: 2026.6553 - mean_absolute_error: 41.7656 - val_loss: 769.7062 - val_mean_absolute_error: 24.3528\n",
      "Epoch 33/50\n",
      "512/512 [==============================] - 0s 236us/step - loss: 2025.3301 - mean_absolute_error: 41.7498 - val_loss: 768.9333 - val_mean_absolute_error: 24.3369\n",
      "Epoch 34/50\n",
      "512/512 [==============================] - 0s 238us/step - loss: 2024.0104 - mean_absolute_error: 41.7339 - val_loss: 768.1563 - val_mean_absolute_error: 24.3210\n",
      "Epoch 35/50\n",
      "512/512 [==============================] - 0s 263us/step - loss: 2022.6809 - mean_absolute_error: 41.7180 - val_loss: 767.3845 - val_mean_absolute_error: 24.3051\n",
      "Epoch 36/50\n",
      "512/512 [==============================] - 0s 265us/step - loss: 2021.3602 - mean_absolute_error: 41.7021 - val_loss: 766.6109 - val_mean_absolute_error: 24.2892\n",
      "Epoch 37/50\n",
      "512/512 [==============================] - 0s 243us/step - loss: 2020.0304 - mean_absolute_error: 41.6862 - val_loss: 765.8441 - val_mean_absolute_error: 24.2734\n",
      "Epoch 38/50\n",
      "512/512 [==============================] - 0s 255us/step - loss: 2018.7105 - mean_absolute_error: 41.6704 - val_loss: 765.0758 - val_mean_absolute_error: 24.2576\n",
      "Epoch 39/50\n",
      "512/512 [==============================] - 0s 224us/step - loss: 2017.3902 - mean_absolute_error: 41.6546 - val_loss: 764.3068 - val_mean_absolute_error: 24.2417\n",
      "Epoch 40/50\n",
      "512/512 [==============================] - 0s 221us/step - loss: 2016.0702 - mean_absolute_error: 41.6387 - val_loss: 763.5376 - val_mean_absolute_error: 24.2259\n",
      "Epoch 41/50\n",
      "512/512 [==============================] - 0s 210us/step - loss: 2014.7534 - mean_absolute_error: 41.6228 - val_loss: 762.7663 - val_mean_absolute_error: 24.2099\n",
      "Epoch 42/50\n",
      "512/512 [==============================] - 0s 267us/step - loss: 2013.4301 - mean_absolute_error: 41.6070 - val_loss: 761.9993 - val_mean_absolute_error: 24.1941\n",
      "Epoch 43/50\n",
      "512/512 [==============================] - 0s 231us/step - loss: 2012.1077 - mean_absolute_error: 41.5912 - val_loss: 761.2360 - val_mean_absolute_error: 24.1783\n",
      "Epoch 44/50\n",
      "512/512 [==============================] - 0s 236us/step - loss: 2010.7968 - mean_absolute_error: 41.5753 - val_loss: 760.4671 - val_mean_absolute_error: 24.1624\n",
      "Epoch 45/50\n",
      "512/512 [==============================] - 0s 296us/step - loss: 2009.4831 - mean_absolute_error: 41.5594 - val_loss: 759.6959 - val_mean_absolute_error: 24.1465\n",
      "Epoch 46/50\n",
      "512/512 [==============================] - 0s 215us/step - loss: 2008.1512 - mean_absolute_error: 41.5436 - val_loss: 758.9394 - val_mean_absolute_error: 24.1308\n",
      "Epoch 47/50\n",
      "512/512 [==============================] - 0s 251us/step - loss: 2006.8468 - mean_absolute_error: 41.5278 - val_loss: 758.1729 - val_mean_absolute_error: 24.1149\n"
     ]
    },
    {
     "name": "stdout",
     "output_type": "stream",
     "text": [
      "Epoch 48/50\n",
      "512/512 [==============================] - 0s 204us/step - loss: 2005.5230 - mean_absolute_error: 41.5120 - val_loss: 757.4145 - val_mean_absolute_error: 24.0992\n",
      "Epoch 49/50\n",
      "512/512 [==============================] - 0s 253us/step - loss: 2004.2150 - mean_absolute_error: 41.4962 - val_loss: 756.6505 - val_mean_absolute_error: 24.0833\n",
      "Epoch 50/50\n",
      "512/512 [==============================] - 0s 170us/step - loss: 2002.9038 - mean_absolute_error: 41.4803 - val_loss: 755.8848 - val_mean_absolute_error: 24.0674\n"
     ]
    }
   ],
   "source": [
    "history = model.fit(train_data, train_label, epochs=50, validation_data=(val_data, val_label))"
   ]
  },
  {
   "cell_type": "markdown",
   "metadata": {},
   "source": [
    "# evaluation"
   ]
  },
  {
   "cell_type": "code",
   "execution_count": 75,
   "metadata": {},
   "outputs": [
    {
     "name": "stdout",
     "output_type": "stream",
     "text": [
      "312/312 [==============================] - 0s 75us/step\n"
     ]
    },
    {
     "data": {
      "text/plain": [
       "[150.26012088090945, 9.698509607559595]"
      ]
     },
     "execution_count": 75,
     "metadata": {},
     "output_type": "execute_result"
    }
   ],
   "source": [
    "model.evaluate(test_data, test_label)"
   ]
  },
  {
   "cell_type": "code",
   "execution_count": null,
   "metadata": {},
   "outputs": [],
   "source": []
  }
 ],
 "metadata": {
  "kernelspec": {
   "display_name": "Python 3",
   "language": "python",
   "name": "python3"
  },
  "language_info": {
   "codemirror_mode": {
    "name": "ipython",
    "version": 3
   },
   "file_extension": ".py",
   "mimetype": "text/x-python",
   "name": "python",
   "nbconvert_exporter": "python",
   "pygments_lexer": "ipython3",
   "version": "3.5.6"
  }
 },
 "nbformat": 4,
 "nbformat_minor": 4
}
